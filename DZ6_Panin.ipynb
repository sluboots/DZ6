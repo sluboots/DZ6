{
 "cells": [
  {
   "cell_type": "code",
   "execution_count": 1,
   "id": "8a963903-3f71-42e3-8c32-0bbb830c558e",
   "metadata": {},
   "outputs": [],
   "source": [
    "import pandas as pd\n",
    "import psycopg2"
   ]
  },
  {
   "cell_type": "code",
   "execution_count": 2,
   "id": "a94b8a75-1d59-44bb-a00c-beb21931cd37",
   "metadata": {},
   "outputs": [],
   "source": [
    "engine = psycopg2.connect(\"dbname='demo' user='postgres' host='localhost' port='5432' password='postgres'\")"
   ]
  },
  {
   "cell_type": "code",
   "execution_count": 3,
   "id": "9c020c4c-878c-4701-a8f3-4326fdbe6be8",
   "metadata": {},
   "outputs": [
    {
     "name": "stderr",
     "output_type": "stream",
     "text": [
      "C:\\Users\\Maksim\\AppData\\Local\\Temp\\ipykernel_23156\\2198133464.py:1: UserWarning: pandas only supports SQLAlchemy connectable (engine/connection) or database string URI or sqlite3 DBAPI2 connection. Other DBAPI2 objects are not tested. Please consider using SQLAlchemy.\n",
      "  df = pd.read_sql('select * from bookings.aircrafts_data', con=engine)\n"
     ]
    }
   ],
   "source": [
    "df = pd.read_sql('select * from bookings.aircrafts_data', con=engine)"
   ]
  },
  {
   "cell_type": "code",
   "execution_count": 4,
   "id": "aa10cb7f-ba56-45d1-877a-7ad38ad969f1",
   "metadata": {},
   "outputs": [
    {
     "data": {
      "text/html": [
       "<div>\n",
       "<style scoped>\n",
       "    .dataframe tbody tr th:only-of-type {\n",
       "        vertical-align: middle;\n",
       "    }\n",
       "\n",
       "    .dataframe tbody tr th {\n",
       "        vertical-align: top;\n",
       "    }\n",
       "\n",
       "    .dataframe thead th {\n",
       "        text-align: right;\n",
       "    }\n",
       "</style>\n",
       "<table border=\"1\" class=\"dataframe\">\n",
       "  <thead>\n",
       "    <tr style=\"text-align: right;\">\n",
       "      <th></th>\n",
       "      <th>aircraft_code</th>\n",
       "      <th>model</th>\n",
       "      <th>range</th>\n",
       "    </tr>\n",
       "  </thead>\n",
       "  <tbody>\n",
       "    <tr>\n",
       "      <th>0</th>\n",
       "      <td>773</td>\n",
       "      <td>{'en': 'Boeing 777-300', 'ru': 'Боинг 777-300'}</td>\n",
       "      <td>11100</td>\n",
       "    </tr>\n",
       "    <tr>\n",
       "      <th>1</th>\n",
       "      <td>763</td>\n",
       "      <td>{'en': 'Boeing 767-300', 'ru': 'Боинг 767-300'}</td>\n",
       "      <td>7900</td>\n",
       "    </tr>\n",
       "    <tr>\n",
       "      <th>2</th>\n",
       "      <td>SU9</td>\n",
       "      <td>{'en': 'Sukhoi Superjet-100', 'ru': 'Сухой Суп...</td>\n",
       "      <td>3000</td>\n",
       "    </tr>\n",
       "    <tr>\n",
       "      <th>3</th>\n",
       "      <td>320</td>\n",
       "      <td>{'en': 'Airbus A320-200', 'ru': 'Аэробус A320-...</td>\n",
       "      <td>5700</td>\n",
       "    </tr>\n",
       "    <tr>\n",
       "      <th>4</th>\n",
       "      <td>321</td>\n",
       "      <td>{'en': 'Airbus A321-200', 'ru': 'Аэробус A321-...</td>\n",
       "      <td>5600</td>\n",
       "    </tr>\n",
       "    <tr>\n",
       "      <th>5</th>\n",
       "      <td>319</td>\n",
       "      <td>{'en': 'Airbus A319-100', 'ru': 'Аэробус A319-...</td>\n",
       "      <td>6700</td>\n",
       "    </tr>\n",
       "    <tr>\n",
       "      <th>6</th>\n",
       "      <td>733</td>\n",
       "      <td>{'en': 'Boeing 737-300', 'ru': 'Боинг 737-300'}</td>\n",
       "      <td>4200</td>\n",
       "    </tr>\n",
       "    <tr>\n",
       "      <th>7</th>\n",
       "      <td>CN1</td>\n",
       "      <td>{'en': 'Cessna 208 Caravan', 'ru': 'Сессна 208...</td>\n",
       "      <td>1200</td>\n",
       "    </tr>\n",
       "    <tr>\n",
       "      <th>8</th>\n",
       "      <td>CR2</td>\n",
       "      <td>{'en': 'Bombardier CRJ-200', 'ru': 'Бомбардье ...</td>\n",
       "      <td>2700</td>\n",
       "    </tr>\n",
       "  </tbody>\n",
       "</table>\n",
       "</div>"
      ],
      "text/plain": [
       "  aircraft_code                                              model  range\n",
       "0           773    {'en': 'Boeing 777-300', 'ru': 'Боинг 777-300'}  11100\n",
       "1           763    {'en': 'Boeing 767-300', 'ru': 'Боинг 767-300'}   7900\n",
       "2           SU9  {'en': 'Sukhoi Superjet-100', 'ru': 'Сухой Суп...   3000\n",
       "3           320  {'en': 'Airbus A320-200', 'ru': 'Аэробус A320-...   5700\n",
       "4           321  {'en': 'Airbus A321-200', 'ru': 'Аэробус A321-...   5600\n",
       "5           319  {'en': 'Airbus A319-100', 'ru': 'Аэробус A319-...   6700\n",
       "6           733    {'en': 'Boeing 737-300', 'ru': 'Боинг 737-300'}   4200\n",
       "7           CN1  {'en': 'Cessna 208 Caravan', 'ru': 'Сессна 208...   1200\n",
       "8           CR2  {'en': 'Bombardier CRJ-200', 'ru': 'Бомбардье ...   2700"
      ]
     },
     "execution_count": 4,
     "metadata": {},
     "output_type": "execute_result"
    }
   ],
   "source": [
    "df"
   ]
  },
  {
   "cell_type": "code",
   "execution_count": 5,
   "id": "c7f4ab3d-3787-45fd-86ef-38c6967ea327",
   "metadata": {},
   "outputs": [
    {
     "data": {
      "text/plain": [
       "(9, 3)"
      ]
     },
     "execution_count": 5,
     "metadata": {},
     "output_type": "execute_result"
    }
   ],
   "source": [
    "df.shape #9 строк и 3 столбца"
   ]
  },
  {
   "cell_type": "raw",
   "id": "043b4329-498c-44c2-b016-62ed648efe0e",
   "metadata": {},
   "source": [
    "Тип столбцов"
   ]
  },
  {
   "cell_type": "code",
   "execution_count": 6,
   "id": "009c3889-b281-4c9d-8710-6015f51ed8f9",
   "metadata": {},
   "outputs": [
    {
     "data": {
      "text/plain": [
       "aircraft_code    object\n",
       "model            object\n",
       "range             int64\n",
       "dtype: object"
      ]
     },
     "execution_count": 6,
     "metadata": {},
     "output_type": "execute_result"
    }
   ],
   "source": [
    "df.dtypes"
   ]
  },
  {
   "cell_type": "code",
   "execution_count": 7,
   "id": "719e4408-4f79-415a-982c-03a2e567be09",
   "metadata": {},
   "outputs": [
    {
     "data": {
      "text/plain": [
       "array([11100,  7900,  3000,  5700,  5600,  6700,  4200,  1200,  2700],\n",
       "      dtype=int64)"
      ]
     },
     "execution_count": 7,
     "metadata": {},
     "output_type": "execute_result"
    }
   ],
   "source": [
    "df['range'].unique()"
   ]
  },
  {
   "cell_type": "raw",
   "id": "0d6ff411-c194-451f-b8d5-3a5315b93909",
   "metadata": {},
   "source": [
    "Частота встречающихся значений"
   ]
  },
  {
   "cell_type": "code",
   "execution_count": 8,
   "id": "f594c560-447d-460d-842a-72f0840dcb2d",
   "metadata": {},
   "outputs": [
    {
     "data": {
      "text/plain": [
       "773    1\n",
       "763    1\n",
       "320    1\n",
       "321    1\n",
       "319    1\n",
       "Name: aircraft_code, dtype: int64"
      ]
     },
     "execution_count": 8,
     "metadata": {},
     "output_type": "execute_result"
    }
   ],
   "source": [
    "df_unique = df[df['range'] > 5000]\n",
    "df_unique['aircraft_code'].value_counts()"
   ]
  },
  {
   "cell_type": "markdown",
   "id": "4356117a-3a5b-4d9d-8c8b-f85cdc298775",
   "metadata": {},
   "source": [
    "Количество уникадьных значений - 5"
   ]
  },
  {
   "cell_type": "code",
   "execution_count": 36,
   "id": "7a0248c7-f2c5-4ed8-8cd2-1a741df401d6",
   "metadata": {},
   "outputs": [
    {
     "data": {
      "text/plain": [
       "5"
      ]
     },
     "execution_count": 36,
     "metadata": {},
     "output_type": "execute_result"
    }
   ],
   "source": [
    "len(df_unique['aircraft_code'].unique())"
   ]
  },
  {
   "cell_type": "raw",
   "id": "ad09bd7c-f7d9-4358-b368-1447dff8a12b",
   "metadata": {},
   "source": [
    "Минимум - 1200\n",
    "Средняя - 5344.4\n",
    "Медиана - 5600\n",
    "Максимум - 11100"
   ]
  },
  {
   "cell_type": "code",
   "execution_count": 40,
   "id": "cc4932a4-0448-4489-b069-95ca1da3db99",
   "metadata": {},
   "outputs": [
    {
     "data": {
      "text/plain": [
       "count        9.000000\n",
       "mean      5344.444444\n",
       "std       3013.764718\n",
       "min       1200.000000\n",
       "25%       3000.000000\n",
       "50%       5600.000000\n",
       "75%       6700.000000\n",
       "max      11100.000000\n",
       "Name: range, dtype: float64"
      ]
     },
     "execution_count": 40,
     "metadata": {},
     "output_type": "execute_result"
    }
   ],
   "source": [
    "df['range'].describe()"
   ]
  },
  {
   "cell_type": "code",
   "execution_count": null,
   "id": "29464b7c-7384-4053-bad1-98306fc7eef8",
   "metadata": {},
   "outputs": [],
   "source": []
  }
 ],
 "metadata": {
  "kernelspec": {
   "display_name": "Python 3 (ipykernel)",
   "language": "python",
   "name": "python3"
  },
  "language_info": {
   "codemirror_mode": {
    "name": "ipython",
    "version": 3
   },
   "file_extension": ".py",
   "mimetype": "text/x-python",
   "name": "python",
   "nbconvert_exporter": "python",
   "pygments_lexer": "ipython3",
   "version": "3.10.14"
  }
 },
 "nbformat": 4,
 "nbformat_minor": 5
}
