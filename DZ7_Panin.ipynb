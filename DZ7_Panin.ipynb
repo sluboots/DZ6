{
 "cells": [
  {
   "cell_type": "code",
   "execution_count": 31,
   "id": "33a0b10f-cab5-42ff-a183-3e58d85e25f2",
   "metadata": {},
   "outputs": [],
   "source": [
    "import pandas as pd\n",
    "import numpy as np"
   ]
  },
  {
   "cell_type": "code",
   "execution_count": 32,
   "id": "43472bb8-9773-4a8b-a1f2-217f527e530e",
   "metadata": {},
   "outputs": [],
   "source": [
    "df = pd.read_csv(r'C:\\Users\\Maksim\\Desktop\\datasets\\TelecomChurn.csv')"
   ]
  },
  {
   "cell_type": "code",
   "execution_count": 33,
   "id": "2f225b1d-f7ce-47ef-af04-0b31542042ce",
   "metadata": {},
   "outputs": [
    {
     "data": {
      "text/plain": [
       "667"
      ]
     },
     "execution_count": 33,
     "metadata": {},
     "output_type": "execute_result"
    }
   ],
   "source": [
    "df.shape[0]"
   ]
  },
  {
   "cell_type": "code",
   "execution_count": 34,
   "id": "aa10daa1-1b0a-44a7-a9ac-b68160eca8f1",
   "metadata": {},
   "outputs": [
    {
     "data": {
      "text/html": [
       "<div>\n",
       "<style scoped>\n",
       "    .dataframe tbody tr th:only-of-type {\n",
       "        vertical-align: middle;\n",
       "    }\n",
       "\n",
       "    .dataframe tbody tr th {\n",
       "        vertical-align: top;\n",
       "    }\n",
       "\n",
       "    .dataframe thead th {\n",
       "        text-align: right;\n",
       "    }\n",
       "</style>\n",
       "<table border=\"1\" class=\"dataframe\">\n",
       "  <thead>\n",
       "    <tr style=\"text-align: right;\">\n",
       "      <th></th>\n",
       "      <th>State</th>\n",
       "      <th>Account length</th>\n",
       "      <th>Area code</th>\n",
       "      <th>International plan</th>\n",
       "      <th>Voice mail plan</th>\n",
       "      <th>Number vmail messages</th>\n",
       "      <th>Total day minutes</th>\n",
       "      <th>Total day calls</th>\n",
       "      <th>Total day charge</th>\n",
       "      <th>Total eve minutes</th>\n",
       "      <th>Total eve calls</th>\n",
       "      <th>Total eve charge</th>\n",
       "      <th>Total night minutes</th>\n",
       "      <th>Total night calls</th>\n",
       "      <th>Total night charge</th>\n",
       "      <th>Total intl minutes</th>\n",
       "      <th>Total intl calls</th>\n",
       "      <th>Total intl charge</th>\n",
       "      <th>Customer service calls</th>\n",
       "      <th>Churn</th>\n",
       "    </tr>\n",
       "  </thead>\n",
       "  <tbody>\n",
       "    <tr>\n",
       "      <th>0</th>\n",
       "      <td>LA</td>\n",
       "      <td>117</td>\n",
       "      <td>408</td>\n",
       "      <td>No</td>\n",
       "      <td>No</td>\n",
       "      <td>0</td>\n",
       "      <td>184.5</td>\n",
       "      <td>97</td>\n",
       "      <td>31.37</td>\n",
       "      <td>351.6</td>\n",
       "      <td>80</td>\n",
       "      <td>29.89</td>\n",
       "      <td>215.8</td>\n",
       "      <td>90</td>\n",
       "      <td>9.71</td>\n",
       "      <td>8.7</td>\n",
       "      <td>4</td>\n",
       "      <td>2.35</td>\n",
       "      <td>1</td>\n",
       "      <td>False</td>\n",
       "    </tr>\n",
       "    <tr>\n",
       "      <th>1</th>\n",
       "      <td>IN</td>\n",
       "      <td>65</td>\n",
       "      <td>415</td>\n",
       "      <td>No</td>\n",
       "      <td>No</td>\n",
       "      <td>0</td>\n",
       "      <td>129.1</td>\n",
       "      <td>137</td>\n",
       "      <td>21.95</td>\n",
       "      <td>228.5</td>\n",
       "      <td>83</td>\n",
       "      <td>19.42</td>\n",
       "      <td>208.8</td>\n",
       "      <td>111</td>\n",
       "      <td>9.40</td>\n",
       "      <td>12.7</td>\n",
       "      <td>6</td>\n",
       "      <td>3.43</td>\n",
       "      <td>4</td>\n",
       "      <td>True</td>\n",
       "    </tr>\n",
       "    <tr>\n",
       "      <th>2</th>\n",
       "      <td>NY</td>\n",
       "      <td>161</td>\n",
       "      <td>415</td>\n",
       "      <td>No</td>\n",
       "      <td>No</td>\n",
       "      <td>0</td>\n",
       "      <td>332.9</td>\n",
       "      <td>67</td>\n",
       "      <td>56.59</td>\n",
       "      <td>317.8</td>\n",
       "      <td>97</td>\n",
       "      <td>27.01</td>\n",
       "      <td>160.6</td>\n",
       "      <td>128</td>\n",
       "      <td>7.23</td>\n",
       "      <td>5.4</td>\n",
       "      <td>9</td>\n",
       "      <td>1.46</td>\n",
       "      <td>4</td>\n",
       "      <td>True</td>\n",
       "    </tr>\n",
       "    <tr>\n",
       "      <th>3</th>\n",
       "      <td>SC</td>\n",
       "      <td>111</td>\n",
       "      <td>415</td>\n",
       "      <td>No</td>\n",
       "      <td>No</td>\n",
       "      <td>0</td>\n",
       "      <td>110.4</td>\n",
       "      <td>103</td>\n",
       "      <td>18.77</td>\n",
       "      <td>137.3</td>\n",
       "      <td>102</td>\n",
       "      <td>11.67</td>\n",
       "      <td>189.6</td>\n",
       "      <td>105</td>\n",
       "      <td>8.53</td>\n",
       "      <td>7.7</td>\n",
       "      <td>6</td>\n",
       "      <td>2.08</td>\n",
       "      <td>2</td>\n",
       "      <td>False</td>\n",
       "    </tr>\n",
       "    <tr>\n",
       "      <th>4</th>\n",
       "      <td>HI</td>\n",
       "      <td>49</td>\n",
       "      <td>510</td>\n",
       "      <td>No</td>\n",
       "      <td>No</td>\n",
       "      <td>0</td>\n",
       "      <td>119.3</td>\n",
       "      <td>117</td>\n",
       "      <td>20.28</td>\n",
       "      <td>215.1</td>\n",
       "      <td>109</td>\n",
       "      <td>18.28</td>\n",
       "      <td>178.7</td>\n",
       "      <td>90</td>\n",
       "      <td>8.04</td>\n",
       "      <td>11.1</td>\n",
       "      <td>1</td>\n",
       "      <td>3.00</td>\n",
       "      <td>1</td>\n",
       "      <td>False</td>\n",
       "    </tr>\n",
       "  </tbody>\n",
       "</table>\n",
       "</div>"
      ],
      "text/plain": [
       "  State  Account length  Area code International plan Voice mail plan  \\\n",
       "0    LA             117        408                 No              No   \n",
       "1    IN              65        415                 No              No   \n",
       "2    NY             161        415                 No              No   \n",
       "3    SC             111        415                 No              No   \n",
       "4    HI              49        510                 No              No   \n",
       "\n",
       "   Number vmail messages  Total day minutes  Total day calls  \\\n",
       "0                      0              184.5               97   \n",
       "1                      0              129.1              137   \n",
       "2                      0              332.9               67   \n",
       "3                      0              110.4              103   \n",
       "4                      0              119.3              117   \n",
       "\n",
       "   Total day charge  Total eve minutes  Total eve calls  Total eve charge  \\\n",
       "0             31.37              351.6               80             29.89   \n",
       "1             21.95              228.5               83             19.42   \n",
       "2             56.59              317.8               97             27.01   \n",
       "3             18.77              137.3              102             11.67   \n",
       "4             20.28              215.1              109             18.28   \n",
       "\n",
       "   Total night minutes  Total night calls  Total night charge  \\\n",
       "0                215.8                 90                9.71   \n",
       "1                208.8                111                9.40   \n",
       "2                160.6                128                7.23   \n",
       "3                189.6                105                8.53   \n",
       "4                178.7                 90                8.04   \n",
       "\n",
       "   Total intl minutes  Total intl calls  Total intl charge  \\\n",
       "0                 8.7                 4               2.35   \n",
       "1                12.7                 6               3.43   \n",
       "2                 5.4                 9               1.46   \n",
       "3                 7.7                 6               2.08   \n",
       "4                11.1                 1               3.00   \n",
       "\n",
       "   Customer service calls  Churn  \n",
       "0                       1  False  \n",
       "1                       4   True  \n",
       "2                       4   True  \n",
       "3                       2  False  \n",
       "4                       1  False  "
      ]
     },
     "execution_count": 34,
     "metadata": {},
     "output_type": "execute_result"
    }
   ],
   "source": [
    "df.head()"
   ]
  },
  {
   "cell_type": "code",
   "execution_count": 35,
   "id": "d3bfee78-5dca-493e-bb35-ff3444cb1bd1",
   "metadata": {},
   "outputs": [
    {
     "data": {
      "text/html": [
       "<div>\n",
       "<style scoped>\n",
       "    .dataframe tbody tr th:only-of-type {\n",
       "        vertical-align: middle;\n",
       "    }\n",
       "\n",
       "    .dataframe tbody tr th {\n",
       "        vertical-align: top;\n",
       "    }\n",
       "\n",
       "    .dataframe thead th {\n",
       "        text-align: right;\n",
       "    }\n",
       "</style>\n",
       "<table border=\"1\" class=\"dataframe\">\n",
       "  <thead>\n",
       "    <tr style=\"text-align: right;\">\n",
       "      <th></th>\n",
       "      <th>State</th>\n",
       "      <th>Account length</th>\n",
       "      <th>Area code</th>\n",
       "      <th>International plan</th>\n",
       "      <th>Voice mail plan</th>\n",
       "      <th>Number vmail messages</th>\n",
       "      <th>Total day minutes</th>\n",
       "      <th>Total day calls</th>\n",
       "      <th>Total day charge</th>\n",
       "      <th>Total eve minutes</th>\n",
       "      <th>Total eve calls</th>\n",
       "      <th>Total eve charge</th>\n",
       "      <th>Total night minutes</th>\n",
       "      <th>Total night calls</th>\n",
       "      <th>Total night charge</th>\n",
       "      <th>Total intl minutes</th>\n",
       "      <th>Total intl calls</th>\n",
       "      <th>Total intl charge</th>\n",
       "      <th>Customer service calls</th>\n",
       "      <th>Churn</th>\n",
       "    </tr>\n",
       "  </thead>\n",
       "  <tbody>\n",
       "    <tr>\n",
       "      <th>0</th>\n",
       "      <td>LA</td>\n",
       "      <td>117</td>\n",
       "      <td>408</td>\n",
       "      <td>No</td>\n",
       "      <td>No</td>\n",
       "      <td>0</td>\n",
       "      <td>184.5</td>\n",
       "      <td>97</td>\n",
       "      <td>31.37</td>\n",
       "      <td>351.6</td>\n",
       "      <td>80</td>\n",
       "      <td>29.89</td>\n",
       "      <td>215.8</td>\n",
       "      <td>90</td>\n",
       "      <td>9.71</td>\n",
       "      <td>8.7</td>\n",
       "      <td>4</td>\n",
       "      <td>2.35</td>\n",
       "      <td>1</td>\n",
       "      <td>False</td>\n",
       "    </tr>\n",
       "  </tbody>\n",
       "</table>\n",
       "</div>"
      ],
      "text/plain": [
       "  State  Account length  Area code International plan Voice mail plan  \\\n",
       "0    LA             117        408                 No              No   \n",
       "\n",
       "   Number vmail messages  Total day minutes  Total day calls  \\\n",
       "0                      0              184.5               97   \n",
       "\n",
       "   Total day charge  Total eve minutes  Total eve calls  Total eve charge  \\\n",
       "0             31.37              351.6               80             29.89   \n",
       "\n",
       "   Total night minutes  Total night calls  Total night charge  \\\n",
       "0                215.8                 90                9.71   \n",
       "\n",
       "   Total intl minutes  Total intl calls  Total intl charge  \\\n",
       "0                 8.7                 4               2.35   \n",
       "\n",
       "   Customer service calls  Churn  \n",
       "0                       1  False  "
      ]
     },
     "execution_count": 35,
     "metadata": {},
     "output_type": "execute_result"
    }
   ],
   "source": [
    "df.iloc[:1]"
   ]
  },
  {
   "cell_type": "code",
   "execution_count": 36,
   "id": "3c1f1e48-faab-428d-867e-f05268ce22dd",
   "metadata": {},
   "outputs": [],
   "source": [
    "df_1 = df.iloc[:df.shape[0] // 2]"
   ]
  },
  {
   "cell_type": "code",
   "execution_count": 37,
   "id": "8882c5c5-7cfa-45f6-8a4d-19203cad5b7e",
   "metadata": {},
   "outputs": [],
   "source": [
    "df_2 = df.iloc[df.shape[0] // 2:]"
   ]
  },
  {
   "cell_type": "code",
   "execution_count": 38,
   "id": "918adff8-008a-4fa9-92b5-443d1c278c7f",
   "metadata": {},
   "outputs": [
    {
     "data": {
      "text/plain": [
       "((333, 20), (334, 20))"
      ]
     },
     "execution_count": 38,
     "metadata": {},
     "output_type": "execute_result"
    }
   ],
   "source": [
    "df_1.shape, df_2.shape"
   ]
  },
  {
   "cell_type": "code",
   "execution_count": 39,
   "id": "2b07cff1-de13-4b23-b59a-967f2dcfffa1",
   "metadata": {},
   "outputs": [],
   "source": [
    "df_3 = pd.concat([df_1, df_2], axis=0)"
   ]
  },
  {
   "cell_type": "code",
   "execution_count": 40,
   "id": "24244e6d-92da-4a76-85ad-5f99796493f7",
   "metadata": {},
   "outputs": [
    {
     "data": {
      "text/plain": [
       "(667, 20)"
      ]
     },
     "execution_count": 40,
     "metadata": {},
     "output_type": "execute_result"
    }
   ],
   "source": [
    "df_3.shape"
   ]
  },
  {
   "cell_type": "code",
   "execution_count": 41,
   "id": "1fd28a06-60e3-4d67-abae-8e2ec7a9c4fb",
   "metadata": {},
   "outputs": [
    {
     "data": {
      "text/plain": [
       "0"
      ]
     },
     "execution_count": 41,
     "metadata": {},
     "output_type": "execute_result"
    }
   ],
   "source": [
    "df.duplicated().sum() # Дубликатов нету"
   ]
  },
  {
   "cell_type": "code",
   "execution_count": 42,
   "id": "5879b542-1e3a-4f26-86fc-ff481e251421",
   "metadata": {},
   "outputs": [
    {
     "data": {
      "text/plain": [
       "State                     0\n",
       "Account length            0\n",
       "Area code                 0\n",
       "International plan        0\n",
       "Voice mail plan           0\n",
       "Number vmail messages     0\n",
       "Total day minutes         0\n",
       "Total day calls           0\n",
       "Total day charge          0\n",
       "Total eve minutes         0\n",
       "Total eve calls           0\n",
       "Total eve charge          0\n",
       "Total night minutes       0\n",
       "Total night calls         0\n",
       "Total night charge        0\n",
       "Total intl minutes        0\n",
       "Total intl calls          0\n",
       "Total intl charge         0\n",
       "Customer service calls    0\n",
       "Churn                     0\n",
       "dtype: int64"
      ]
     },
     "execution_count": 42,
     "metadata": {},
     "output_type": "execute_result"
    }
   ],
   "source": [
    "df.isna().sum() # Пропусков нету, значит надо добавить "
   ]
  },
  {
   "cell_type": "code",
   "execution_count": 43,
   "id": "34b4fe98-35ec-4fb4-a372-e211bda9c20b",
   "metadata": {},
   "outputs": [],
   "source": [
    "#Заполнение пропусков\n",
    "for column in df.columns:\n",
    "    size = np.random.randint(50, 100)\n",
    "    rows = np.random.randint(0, df.shape[0], size = size)\n",
    "    df.loc[rows, column] = np.nan"
   ]
  },
  {
   "cell_type": "code",
   "execution_count": 44,
   "id": "dd2ecefd-b44e-4e9a-b510-451e293930f8",
   "metadata": {},
   "outputs": [
    {
     "data": {
      "text/plain": [
       "State                     60\n",
       "Account length            52\n",
       "Area code                 56\n",
       "International plan        49\n",
       "Voice mail plan           79\n",
       "Number vmail messages     67\n",
       "Total day minutes         63\n",
       "Total day calls           48\n",
       "Total day charge          88\n",
       "Total eve minutes         79\n",
       "Total eve calls           92\n",
       "Total eve charge          51\n",
       "Total night minutes       53\n",
       "Total night calls         74\n",
       "Total night charge        93\n",
       "Total intl minutes        70\n",
       "Total intl calls          70\n",
       "Total intl charge         86\n",
       "Customer service calls    65\n",
       "Churn                     85\n",
       "dtype: int64"
      ]
     },
     "execution_count": 44,
     "metadata": {},
     "output_type": "execute_result"
    }
   ],
   "source": [
    "df.isna().sum()"
   ]
  },
  {
   "cell_type": "code",
   "execution_count": 45,
   "id": "823c883f-8e62-427e-b059-96cee564d5e1",
   "metadata": {},
   "outputs": [],
   "source": [
    "na_index = df[df['Total eve calls'].isna()].index # Получаем индексы пропусков"
   ]
  },
  {
   "cell_type": "code",
   "execution_count": 46,
   "id": "6c97b810-f944-4a48-88e4-a293364931ee",
   "metadata": {},
   "outputs": [
    {
     "data": {
      "text/plain": [
       "Int64Index([  7,  26,  34,  36,  45,  46,  50,  61,  74,  84,  90,  91,  98,\n",
       "            106, 119, 123, 125, 127, 128, 138, 139, 141, 143, 147, 167, 176,\n",
       "            184, 185, 192, 210, 217, 223, 224, 232, 248, 267, 273, 278, 280,\n",
       "            283, 285, 292, 294, 295, 301, 304, 315, 325, 332, 345, 349, 362,\n",
       "            377, 382, 389, 397, 416, 426, 433, 437, 449, 455, 464, 468, 469,\n",
       "            487, 490, 502, 512, 513, 534, 560, 561, 578, 586, 592, 595, 599,\n",
       "            611, 612, 614, 622, 625, 626, 630, 633, 642, 644, 646, 648, 653,\n",
       "            665],\n",
       "           dtype='int64')"
      ]
     },
     "execution_count": 46,
     "metadata": {},
     "output_type": "execute_result"
    }
   ],
   "source": [
    "na_index"
   ]
  },
  {
   "cell_type": "code",
   "execution_count": 47,
   "id": "2bf62d33-890c-4b94-975c-ceeabe345f7a",
   "metadata": {},
   "outputs": [],
   "source": [
    "size_na = df['Total eve calls'].isna().sum()\n",
    "random = df['Total eve calls'].dropna().sample(size_na).values\n",
    "df.loc[df['Total eve calls'].isna(), 'Total eve calls_rand'] = random"
   ]
  },
  {
   "cell_type": "code",
   "execution_count": 48,
   "id": "9201ab21-bf86-4dda-9018-97391582de87",
   "metadata": {},
   "outputs": [
    {
     "data": {
      "text/plain": [
       "7      113.0\n",
       "26     142.0\n",
       "34     105.0\n",
       "36     123.0\n",
       "45      90.0\n",
       "       ...  \n",
       "644    106.0\n",
       "646     86.0\n",
       "648    104.0\n",
       "653    142.0\n",
       "665     86.0\n",
       "Name: Total eve calls_rand, Length: 92, dtype: float64"
      ]
     },
     "execution_count": 48,
     "metadata": {},
     "output_type": "execute_result"
    }
   ],
   "source": [
    "df.loc[na_index, 'Total eve calls_rand']"
   ]
  },
  {
   "cell_type": "code",
   "execution_count": 49,
   "id": "b0c4941e-ffb3-46b2-80f8-f93896ac4f56",
   "metadata": {},
   "outputs": [],
   "source": [
    "df.loc[df['Total eve calls'].isna(), 'Total eve calls'] = random"
   ]
  },
  {
   "cell_type": "code",
   "execution_count": 50,
   "id": "cd972446-1285-42f2-8e41-1132a5b21a11",
   "metadata": {},
   "outputs": [
    {
     "data": {
      "text/plain": [
       "0       80.0\n",
       "1       83.0\n",
       "2       97.0\n",
       "3      102.0\n",
       "4      109.0\n",
       "       ...  \n",
       "662    125.0\n",
       "663    131.0\n",
       "664    110.0\n",
       "665     86.0\n",
       "666     84.0\n",
       "Name: Total eve calls, Length: 667, dtype: float64"
      ]
     },
     "execution_count": 50,
     "metadata": {},
     "output_type": "execute_result"
    }
   ],
   "source": [
    "df['Total eve calls']"
   ]
  },
  {
   "cell_type": "code",
   "execution_count": 51,
   "id": "3fcd3a24-e5f7-42ef-be72-cb5e47a33e7d",
   "metadata": {},
   "outputs": [
    {
     "data": {
      "text/html": [
       "<div>\n",
       "<style scoped>\n",
       "    .dataframe tbody tr th:only-of-type {\n",
       "        vertical-align: middle;\n",
       "    }\n",
       "\n",
       "    .dataframe tbody tr th {\n",
       "        vertical-align: top;\n",
       "    }\n",
       "\n",
       "    .dataframe thead th {\n",
       "        text-align: right;\n",
       "    }\n",
       "</style>\n",
       "<table border=\"1\" class=\"dataframe\">\n",
       "  <thead>\n",
       "    <tr style=\"text-align: right;\">\n",
       "      <th></th>\n",
       "      <th>Account length</th>\n",
       "      <th>Area code</th>\n",
       "      <th>Number vmail messages</th>\n",
       "      <th>Total day minutes</th>\n",
       "      <th>Total day calls</th>\n",
       "      <th>Total day charge</th>\n",
       "      <th>Total eve minutes</th>\n",
       "      <th>Total eve calls</th>\n",
       "      <th>Total eve charge</th>\n",
       "      <th>Total night minutes</th>\n",
       "      <th>Total night calls</th>\n",
       "      <th>Total night charge</th>\n",
       "      <th>Total intl minutes</th>\n",
       "      <th>Total intl calls</th>\n",
       "      <th>Total intl charge</th>\n",
       "      <th>Customer service calls</th>\n",
       "      <th>Total eve calls_rand</th>\n",
       "    </tr>\n",
       "  </thead>\n",
       "  <tbody>\n",
       "    <tr>\n",
       "      <th>count</th>\n",
       "      <td>615.000000</td>\n",
       "      <td>611.000000</td>\n",
       "      <td>600.000000</td>\n",
       "      <td>604.000000</td>\n",
       "      <td>619.000000</td>\n",
       "      <td>579.000000</td>\n",
       "      <td>588.000000</td>\n",
       "      <td>667.000000</td>\n",
       "      <td>616.000000</td>\n",
       "      <td>614.000000</td>\n",
       "      <td>593.000000</td>\n",
       "      <td>574.000000</td>\n",
       "      <td>597.000000</td>\n",
       "      <td>597.000000</td>\n",
       "      <td>581.000000</td>\n",
       "      <td>602.000000</td>\n",
       "      <td>92.000000</td>\n",
       "    </tr>\n",
       "    <tr>\n",
       "      <th>mean</th>\n",
       "      <td>102.170732</td>\n",
       "      <td>436.581015</td>\n",
       "      <td>8.701667</td>\n",
       "      <td>180.164570</td>\n",
       "      <td>101.011309</td>\n",
       "      <td>30.622781</td>\n",
       "      <td>202.319728</td>\n",
       "      <td>100.014993</td>\n",
       "      <td>17.308263</td>\n",
       "      <td>199.718078</td>\n",
       "      <td>99.883642</td>\n",
       "      <td>9.006951</td>\n",
       "      <td>10.229481</td>\n",
       "      <td>4.489112</td>\n",
       "      <td>2.790275</td>\n",
       "      <td>1.549834</td>\n",
       "      <td>100.336957</td>\n",
       "    </tr>\n",
       "    <tr>\n",
       "      <th>std</th>\n",
       "      <td>40.893025</td>\n",
       "      <td>42.011527</td>\n",
       "      <td>14.256510</td>\n",
       "      <td>55.455789</td>\n",
       "      <td>20.100835</td>\n",
       "      <td>9.427188</td>\n",
       "      <td>50.068853</td>\n",
       "      <td>18.651854</td>\n",
       "      <td>4.260615</td>\n",
       "      <td>49.623225</td>\n",
       "      <td>20.235730</td>\n",
       "      <td>2.225733</td>\n",
       "      <td>2.805005</td>\n",
       "      <td>2.449209</td>\n",
       "      <td>0.756283</td>\n",
       "      <td>1.344865</td>\n",
       "      <td>18.224653</td>\n",
       "    </tr>\n",
       "    <tr>\n",
       "      <th>min</th>\n",
       "      <td>1.000000</td>\n",
       "      <td>408.000000</td>\n",
       "      <td>0.000000</td>\n",
       "      <td>25.900000</td>\n",
       "      <td>30.000000</td>\n",
       "      <td>4.400000</td>\n",
       "      <td>48.100000</td>\n",
       "      <td>37.000000</td>\n",
       "      <td>4.090000</td>\n",
       "      <td>23.200000</td>\n",
       "      <td>42.000000</td>\n",
       "      <td>1.040000</td>\n",
       "      <td>0.000000</td>\n",
       "      <td>0.000000</td>\n",
       "      <td>0.000000</td>\n",
       "      <td>0.000000</td>\n",
       "      <td>56.000000</td>\n",
       "    </tr>\n",
       "    <tr>\n",
       "      <th>25%</th>\n",
       "      <td>75.000000</td>\n",
       "      <td>415.000000</td>\n",
       "      <td>0.000000</td>\n",
       "      <td>144.475000</td>\n",
       "      <td>88.000000</td>\n",
       "      <td>24.770000</td>\n",
       "      <td>169.875000</td>\n",
       "      <td>88.000000</td>\n",
       "      <td>14.587500</td>\n",
       "      <td>168.800000</td>\n",
       "      <td>86.000000</td>\n",
       "      <td>7.520000</td>\n",
       "      <td>8.600000</td>\n",
       "      <td>3.000000</td>\n",
       "      <td>2.320000</td>\n",
       "      <td>1.000000</td>\n",
       "      <td>88.000000</td>\n",
       "    </tr>\n",
       "    <tr>\n",
       "      <th>50%</th>\n",
       "      <td>101.000000</td>\n",
       "      <td>415.000000</td>\n",
       "      <td>0.000000</td>\n",
       "      <td>178.350000</td>\n",
       "      <td>101.000000</td>\n",
       "      <td>30.110000</td>\n",
       "      <td>202.700000</td>\n",
       "      <td>101.000000</td>\n",
       "      <td>17.305000</td>\n",
       "      <td>201.650000</td>\n",
       "      <td>99.000000</td>\n",
       "      <td>9.120000</td>\n",
       "      <td>10.500000</td>\n",
       "      <td>4.000000</td>\n",
       "      <td>2.860000</td>\n",
       "      <td>1.000000</td>\n",
       "      <td>103.000000</td>\n",
       "    </tr>\n",
       "    <tr>\n",
       "      <th>75%</th>\n",
       "      <td>127.000000</td>\n",
       "      <td>415.000000</td>\n",
       "      <td>21.000000</td>\n",
       "      <td>217.425000</td>\n",
       "      <td>115.000000</td>\n",
       "      <td>36.900000</td>\n",
       "      <td>235.150000</td>\n",
       "      <td>112.000000</td>\n",
       "      <td>20.102500</td>\n",
       "      <td>231.200000</td>\n",
       "      <td>113.000000</td>\n",
       "      <td>10.420000</td>\n",
       "      <td>12.000000</td>\n",
       "      <td>6.000000</td>\n",
       "      <td>3.270000</td>\n",
       "      <td>2.000000</td>\n",
       "      <td>113.500000</td>\n",
       "    </tr>\n",
       "    <tr>\n",
       "      <th>max</th>\n",
       "      <td>232.000000</td>\n",
       "      <td>510.000000</td>\n",
       "      <td>51.000000</td>\n",
       "      <td>334.300000</td>\n",
       "      <td>165.000000</td>\n",
       "      <td>56.830000</td>\n",
       "      <td>361.800000</td>\n",
       "      <td>168.000000</td>\n",
       "      <td>30.750000</td>\n",
       "      <td>367.700000</td>\n",
       "      <td>175.000000</td>\n",
       "      <td>16.550000</td>\n",
       "      <td>18.300000</td>\n",
       "      <td>18.000000</td>\n",
       "      <td>4.940000</td>\n",
       "      <td>8.000000</td>\n",
       "      <td>142.000000</td>\n",
       "    </tr>\n",
       "  </tbody>\n",
       "</table>\n",
       "</div>"
      ],
      "text/plain": [
       "       Account length   Area code  Number vmail messages  Total day minutes  \\\n",
       "count      615.000000  611.000000             600.000000         604.000000   \n",
       "mean       102.170732  436.581015               8.701667         180.164570   \n",
       "std         40.893025   42.011527              14.256510          55.455789   \n",
       "min          1.000000  408.000000               0.000000          25.900000   \n",
       "25%         75.000000  415.000000               0.000000         144.475000   \n",
       "50%        101.000000  415.000000               0.000000         178.350000   \n",
       "75%        127.000000  415.000000              21.000000         217.425000   \n",
       "max        232.000000  510.000000              51.000000         334.300000   \n",
       "\n",
       "       Total day calls  Total day charge  Total eve minutes  Total eve calls  \\\n",
       "count       619.000000        579.000000         588.000000       667.000000   \n",
       "mean        101.011309         30.622781         202.319728       100.014993   \n",
       "std          20.100835          9.427188          50.068853        18.651854   \n",
       "min          30.000000          4.400000          48.100000        37.000000   \n",
       "25%          88.000000         24.770000         169.875000        88.000000   \n",
       "50%         101.000000         30.110000         202.700000       101.000000   \n",
       "75%         115.000000         36.900000         235.150000       112.000000   \n",
       "max         165.000000         56.830000         361.800000       168.000000   \n",
       "\n",
       "       Total eve charge  Total night minutes  Total night calls  \\\n",
       "count        616.000000           614.000000         593.000000   \n",
       "mean          17.308263           199.718078          99.883642   \n",
       "std            4.260615            49.623225          20.235730   \n",
       "min            4.090000            23.200000          42.000000   \n",
       "25%           14.587500           168.800000          86.000000   \n",
       "50%           17.305000           201.650000          99.000000   \n",
       "75%           20.102500           231.200000         113.000000   \n",
       "max           30.750000           367.700000         175.000000   \n",
       "\n",
       "       Total night charge  Total intl minutes  Total intl calls  \\\n",
       "count          574.000000          597.000000        597.000000   \n",
       "mean             9.006951           10.229481          4.489112   \n",
       "std              2.225733            2.805005          2.449209   \n",
       "min              1.040000            0.000000          0.000000   \n",
       "25%              7.520000            8.600000          3.000000   \n",
       "50%              9.120000           10.500000          4.000000   \n",
       "75%             10.420000           12.000000          6.000000   \n",
       "max             16.550000           18.300000         18.000000   \n",
       "\n",
       "       Total intl charge  Customer service calls  Total eve calls_rand  \n",
       "count         581.000000              602.000000             92.000000  \n",
       "mean            2.790275                1.549834            100.336957  \n",
       "std             0.756283                1.344865             18.224653  \n",
       "min             0.000000                0.000000             56.000000  \n",
       "25%             2.320000                1.000000             88.000000  \n",
       "50%             2.860000                1.000000            103.000000  \n",
       "75%             3.270000                2.000000            113.500000  \n",
       "max             4.940000                8.000000            142.000000  "
      ]
     },
     "execution_count": 51,
     "metadata": {},
     "output_type": "execute_result"
    }
   ],
   "source": [
    "df.describe() #Выбросов в датасете нету"
   ]
  },
  {
   "cell_type": "code",
   "execution_count": 52,
   "id": "5a0afb22-5afc-49c2-ba61-837fe89b716c",
   "metadata": {},
   "outputs": [],
   "source": [
    "df['Account length Norm'] = (df['Account length'] - df['Account length'].min()) / (df['Account length'].max() - df['Account length'].min()) \n",
    "# Нормализация данных"
   ]
  },
  {
   "cell_type": "code",
   "execution_count": 53,
   "id": "f9990d38-11e7-4e38-a202-cb223b3fe34f",
   "metadata": {},
   "outputs": [
    {
     "data": {
      "text/plain": [
       "0      0.502165\n",
       "1      0.277056\n",
       "2      0.692641\n",
       "3      0.476190\n",
       "4      0.207792\n",
       "         ...   \n",
       "662    0.489177\n",
       "663    0.454545\n",
       "664    0.255411\n",
       "665    0.683983\n",
       "666         NaN\n",
       "Name: Account length Norm, Length: 667, dtype: float64"
      ]
     },
     "execution_count": 53,
     "metadata": {},
     "output_type": "execute_result"
    }
   ],
   "source": [
    "df['Account length Norm'] # Нормализация данных "
   ]
  }
 ],
 "metadata": {
  "kernelspec": {
   "display_name": "Python 3 (ipykernel)",
   "language": "python",
   "name": "python3"
  },
  "language_info": {
   "codemirror_mode": {
    "name": "ipython",
    "version": 3
   },
   "file_extension": ".py",
   "mimetype": "text/x-python",
   "name": "python",
   "nbconvert_exporter": "python",
   "pygments_lexer": "ipython3",
   "version": "3.10.14"
  }
 },
 "nbformat": 4,
 "nbformat_minor": 5
}
