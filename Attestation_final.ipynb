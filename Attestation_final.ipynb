{
 "cells": [
  {
   "cell_type": "code",
   "execution_count": 453,
   "id": "de82bf2e-529d-4fbf-b69b-dbfeb769a2ad",
   "metadata": {},
   "outputs": [],
   "source": [
    "import pandas as pd\n",
    "import numpy as np\n",
    "import matplotlib.pyplot as plt\n",
    "import statsmodels.api as sm\n",
    "from sklearn.model_selection import train_test_split\n",
    "from sklearn.linear_model import LogisticRegression\n",
    "from sklearn.metrics import accuracy_score, classification_report\n",
    "from sklearn.svm import SVC\n",
    "import seaborn as sns"
   ]
  },
  {
   "cell_type": "code",
   "execution_count": 454,
   "id": "aec590c4-0b59-4cc9-bf7d-18ed75fd53ce",
   "metadata": {},
   "outputs": [],
   "source": [
    "result_dict = {'log': [], 'forest': [], 'boost': []}"
   ]
  },
  {
   "cell_type": "code",
   "execution_count": 455,
   "id": "c5ddca0a-bc99-49d7-b205-7494e52b7a89",
   "metadata": {},
   "outputs": [
    {
     "data": {
      "text/html": [
       "<div>\n",
       "<style scoped>\n",
       "    .dataframe tbody tr th:only-of-type {\n",
       "        vertical-align: middle;\n",
       "    }\n",
       "\n",
       "    .dataframe tbody tr th {\n",
       "        vertical-align: top;\n",
       "    }\n",
       "\n",
       "    .dataframe thead th {\n",
       "        text-align: right;\n",
       "    }\n",
       "</style>\n",
       "<table border=\"1\" class=\"dataframe\">\n",
       "  <thead>\n",
       "    <tr style=\"text-align: right;\">\n",
       "      <th></th>\n",
       "      <th>Status</th>\n",
       "      <th>Seniority</th>\n",
       "      <th>Home</th>\n",
       "      <th>Time</th>\n",
       "      <th>Age</th>\n",
       "      <th>Marital</th>\n",
       "      <th>Records</th>\n",
       "      <th>Job</th>\n",
       "      <th>Expenses</th>\n",
       "      <th>Income</th>\n",
       "      <th>Assets</th>\n",
       "      <th>Debt</th>\n",
       "      <th>Amount</th>\n",
       "      <th>Price</th>\n",
       "    </tr>\n",
       "  </thead>\n",
       "  <tbody>\n",
       "    <tr>\n",
       "      <th>0</th>\n",
       "      <td>good</td>\n",
       "      <td>9</td>\n",
       "      <td>rent</td>\n",
       "      <td>60</td>\n",
       "      <td>30</td>\n",
       "      <td>married</td>\n",
       "      <td>no</td>\n",
       "      <td>freelance</td>\n",
       "      <td>73</td>\n",
       "      <td>129.0</td>\n",
       "      <td>0.0</td>\n",
       "      <td>0.0</td>\n",
       "      <td>800</td>\n",
       "      <td>846</td>\n",
       "    </tr>\n",
       "    <tr>\n",
       "      <th>1</th>\n",
       "      <td>good</td>\n",
       "      <td>17</td>\n",
       "      <td>rent</td>\n",
       "      <td>60</td>\n",
       "      <td>58</td>\n",
       "      <td>widow</td>\n",
       "      <td>no</td>\n",
       "      <td>fixed</td>\n",
       "      <td>48</td>\n",
       "      <td>131.0</td>\n",
       "      <td>0.0</td>\n",
       "      <td>0.0</td>\n",
       "      <td>1000</td>\n",
       "      <td>1658</td>\n",
       "    </tr>\n",
       "    <tr>\n",
       "      <th>2</th>\n",
       "      <td>bad</td>\n",
       "      <td>10</td>\n",
       "      <td>owner</td>\n",
       "      <td>36</td>\n",
       "      <td>46</td>\n",
       "      <td>married</td>\n",
       "      <td>yes</td>\n",
       "      <td>freelance</td>\n",
       "      <td>90</td>\n",
       "      <td>200.0</td>\n",
       "      <td>3000.0</td>\n",
       "      <td>0.0</td>\n",
       "      <td>2000</td>\n",
       "      <td>2985</td>\n",
       "    </tr>\n",
       "    <tr>\n",
       "      <th>3</th>\n",
       "      <td>good</td>\n",
       "      <td>0</td>\n",
       "      <td>rent</td>\n",
       "      <td>60</td>\n",
       "      <td>24</td>\n",
       "      <td>single</td>\n",
       "      <td>no</td>\n",
       "      <td>fixed</td>\n",
       "      <td>63</td>\n",
       "      <td>182.0</td>\n",
       "      <td>2500.0</td>\n",
       "      <td>0.0</td>\n",
       "      <td>900</td>\n",
       "      <td>1325</td>\n",
       "    </tr>\n",
       "    <tr>\n",
       "      <th>4</th>\n",
       "      <td>good</td>\n",
       "      <td>0</td>\n",
       "      <td>rent</td>\n",
       "      <td>36</td>\n",
       "      <td>26</td>\n",
       "      <td>single</td>\n",
       "      <td>no</td>\n",
       "      <td>fixed</td>\n",
       "      <td>46</td>\n",
       "      <td>107.0</td>\n",
       "      <td>0.0</td>\n",
       "      <td>0.0</td>\n",
       "      <td>310</td>\n",
       "      <td>910</td>\n",
       "    </tr>\n",
       "  </tbody>\n",
       "</table>\n",
       "</div>"
      ],
      "text/plain": [
       "  Status  Seniority   Home  Time  Age  Marital Records        Job  Expenses  \\\n",
       "0   good          9   rent    60   30  married      no  freelance        73   \n",
       "1   good         17   rent    60   58    widow      no      fixed        48   \n",
       "2    bad         10  owner    36   46  married     yes  freelance        90   \n",
       "3   good          0   rent    60   24   single      no      fixed        63   \n",
       "4   good          0   rent    36   26   single      no      fixed        46   \n",
       "\n",
       "   Income  Assets  Debt  Amount  Price  \n",
       "0   129.0     0.0   0.0     800    846  \n",
       "1   131.0     0.0   0.0    1000   1658  \n",
       "2   200.0  3000.0   0.0    2000   2985  \n",
       "3   182.0  2500.0   0.0     900   1325  \n",
       "4   107.0     0.0   0.0     310    910  "
      ]
     },
     "execution_count": 455,
     "metadata": {},
     "output_type": "execute_result"
    }
   ],
   "source": [
    "item = 'credit_data' # Выбрать из поля Item для вашего датасета\n",
    "package = 'modeldata' # Выбрать из поля Package для вашего датасета\n",
    "\n",
    "df = sm.datasets.get_rdataset(item, package , cache=True).data\n",
    "df.head()"
   ]
  },
  {
   "cell_type": "markdown",
   "id": "81e572f9-d072-48eb-9ae4-9fa1c82ac793",
   "metadata": {},
   "source": [
    "## Первая гипотеза. Семейное положение (Marital) влияет на кредитный статус (Status). "
   ]
  },
  {
   "cell_type": "code",
   "execution_count": 456,
   "id": "e1919d00-6a02-441e-8385-e2f29da3d78d",
   "metadata": {},
   "outputs": [
    {
     "data": {
      "text/plain": [
       "array(['good', 'bad'], dtype=object)"
      ]
     },
     "execution_count": 456,
     "metadata": {},
     "output_type": "execute_result"
    }
   ],
   "source": [
    "df.Status.unique()"
   ]
  },
  {
   "cell_type": "markdown",
   "id": "92e80a92-edac-4058-84c8-c9720ad5fe03",
   "metadata": {},
   "source": [
    "Всего есть два кредитных статуса: \"Хороший\" и \"Плохой\""
   ]
  },
  {
   "cell_type": "code",
   "execution_count": 457,
   "id": "3131af27-bf39-48ce-ae91-f32837bfef50",
   "metadata": {},
   "outputs": [
    {
     "data": {
      "text/plain": [
       "array(['married', 'widow', 'single', 'separated', 'divorced', nan],\n",
       "      dtype=object)"
      ]
     },
     "execution_count": 457,
     "metadata": {},
     "output_type": "execute_result"
    }
   ],
   "source": [
    "df.Marital.unique()"
   ]
  },
  {
   "cell_type": "markdown",
   "id": "071daa2e-59eb-43fa-8994-75ef04773cf0",
   "metadata": {},
   "source": [
    "Столбец семейное положение состоит из таких элементов, как: женаты/замужем, вдова/вдовец, холост, живут отдельно, разведены, и nan. NaN означает, наличие пропуска."
   ]
  },
  {
   "cell_type": "code",
   "execution_count": 458,
   "id": "99b82c99-1291-4c5a-a5b9-ba148542942f",
   "metadata": {},
   "outputs": [
    {
     "data": {
      "text/plain": [
       "Status         0\n",
       "Seniority      0\n",
       "Home           6\n",
       "Time           0\n",
       "Age            0\n",
       "Marital        1\n",
       "Records        0\n",
       "Job            2\n",
       "Expenses       0\n",
       "Income       381\n",
       "Assets        47\n",
       "Debt          18\n",
       "Amount         0\n",
       "Price          0\n",
       "dtype: int64"
      ]
     },
     "execution_count": 458,
     "metadata": {},
     "output_type": "execute_result"
    }
   ],
   "source": [
    "df.isnull().sum()"
   ]
  },
  {
   "cell_type": "markdown",
   "id": "11042a99-2494-458c-8f2c-4067bf2a3cd4",
   "metadata": {},
   "source": [
    "Для данной гипотезы нужны столбцы Статус и Семейное положение. Семейное положение имеет один пропуск, думаю эту строчку можно спокойно удалить, она не должна повлиять на датасет. "
   ]
  },
  {
   "cell_type": "code",
   "execution_count": 459,
   "id": "d19d483b-b5ef-4e37-97c8-74e100619402",
   "metadata": {},
   "outputs": [],
   "source": [
    "df = df[df['Marital'].notna()]"
   ]
  },
  {
   "cell_type": "code",
   "execution_count": 460,
   "id": "6f9790a8-1009-4adc-8815-2053c04dc10c",
   "metadata": {},
   "outputs": [
    {
     "data": {
      "text/plain": [
       "Status         0\n",
       "Seniority      0\n",
       "Home           6\n",
       "Time           0\n",
       "Age            0\n",
       "Marital        0\n",
       "Records        0\n",
       "Job            2\n",
       "Expenses       0\n",
       "Income       381\n",
       "Assets        47\n",
       "Debt          18\n",
       "Amount         0\n",
       "Price          0\n",
       "dtype: int64"
      ]
     },
     "execution_count": 460,
     "metadata": {},
     "output_type": "execute_result"
    }
   ],
   "source": [
    "df.isnull().sum()"
   ]
  },
  {
   "cell_type": "markdown",
   "id": "9e5faa69-2f36-4416-babe-57689ec6c1c3",
   "metadata": {},
   "source": [
    "Для удобства переименую содержимое столбцов Статус и Семейное положение."
   ]
  },
  {
   "cell_type": "code",
   "execution_count": 461,
   "id": "83e20c6b-daef-4f7e-b5a8-accbb73f4549",
   "metadata": {},
   "outputs": [],
   "source": [
    "df = df.replace({'good': 'Хороший', 'bad': 'Плохой', 'married': 'Женат', 'widow': 'Вдовец', 'single': 'Холост', \n",
    "            'separated': 'Живут отдельно', 'divorced': 'Разведены'})"
   ]
  },
  {
   "cell_type": "markdown",
   "id": "88df7c55-fb62-4603-8b53-aa3aae5d00fb",
   "metadata": {},
   "source": [
    "Как видно на графике ниже, в большинстве случаев, заёмщик имеет хорошую репутацию. "
   ]
  },
  {
   "cell_type": "code",
   "execution_count": 463,
   "id": "d801e45b-cfea-49c4-b3b9-72ce1d7e5e47",
   "metadata": {},
   "outputs": [
    {
     "data": {
      "image/png": "[encoded data removed]",
      "text/plain": [
       "<Figure size 640x480 with 1 Axes>"
      ]
     },
     "metadata": {},
     "output_type": "display_data"
    }
   ],
   "source": [
    "sns.histplot(data=df, x=\"Status\", color=\"skyblue\")\n",
    "plt.title(\"Box Plot распределения\")\n",
    "plt.xlabel(\"Значения\")\n",
    "plt.show()"
   ]
  },
  {
   "cell_type": "markdown",
   "id": "0fcd0327-3ebf-4786-95c5-4f6b821928b8",
   "metadata": {},
   "source": [
    "Теперь необходимо посмотреть на распределение столбца Marital. На графике ниже, видно, что из 4209 заёмщиков, 3000 имеют статус женаты/замужем. Распределение явно не нормальное. "
   ]
  },
  {
   "cell_type": "code",
   "execution_count": 464,
   "id": "5bf7bbef-de1b-47e6-8ea0-c38bdcf4e199",
   "metadata": {},
   "outputs": [
    {
     "data": {
      "image/png": "[encoded data removed]",
      "text/plain": [
       "<Figure size 640x480 with 1 Axes>"
      ]
     },
     "metadata": {},
     "output_type": "display_data"
    }
   ],
   "source": [
    "sns.histplot(data=df, x=\"Marital\", color=\"skyblue\")\n",
    "plt.title(\"Box Plot распределения\")\n",
    "plt.xlabel(\"Значения\")\n",
    "plt.show()"
   ]
  },
  {
   "cell_type": "markdown",
   "id": "66cb2845-9a0d-4e39-aff5-0458e329ce54",
   "metadata": {},
   "source": [
    "Далее была составлена кросс таблица для столбцов Status и Marital"
   ]
  },
  {
   "cell_type": "code",
   "execution_count": 465,
   "id": "d7e19511-d033-409b-b0c0-67b3546d0756",
   "metadata": {},
   "outputs": [],
   "source": [
    "df_task1 = pd.crosstab(df['Status'], df['Marital']) "
   ]
  },
  {
   "cell_type": "code",
   "execution_count": 466,
   "id": "aeb19557-8fe7-4071-9260-47881ead13eb",
   "metadata": {},
   "outputs": [
    {
     "data": {
      "text/html": [
       "<div>\n",
       "<style scoped>\n",
       "    .dataframe tbody tr th:only-of-type {\n",
       "        vertical-align: middle;\n",
       "    }\n",
       "\n",
       "    .dataframe tbody tr th {\n",
       "        vertical-align: top;\n",
       "    }\n",
       "\n",
       "    .dataframe thead th {\n",
       "        text-align: right;\n",
       "    }\n",
       "</style>\n",
       "<table border=\"1\" class=\"dataframe\">\n",
       "  <thead>\n",
       "    <tr style=\"text-align: right;\">\n",
       "      <th>Marital</th>\n",
       "      <th>Вдовец</th>\n",
       "      <th>Женат</th>\n",
       "      <th>Живут отдельно</th>\n",
       "      <th>Разведены</th>\n",
       "      <th>Холост</th>\n",
       "    </tr>\n",
       "    <tr>\n",
       "      <th>Status</th>\n",
       "      <th></th>\n",
       "      <th></th>\n",
       "      <th></th>\n",
       "      <th></th>\n",
       "      <th></th>\n",
       "    </tr>\n",
       "  </thead>\n",
       "  <tbody>\n",
       "    <tr>\n",
       "      <th>Плохой</th>\n",
       "      <td>19</td>\n",
       "      <td>829</td>\n",
       "      <td>64</td>\n",
       "      <td>14</td>\n",
       "      <td>328</td>\n",
       "    </tr>\n",
       "    <tr>\n",
       "      <th>Хороший</th>\n",
       "      <td>48</td>\n",
       "      <td>2412</td>\n",
       "      <td>66</td>\n",
       "      <td>24</td>\n",
       "      <td>649</td>\n",
       "    </tr>\n",
       "  </tbody>\n",
       "</table>\n",
       "</div>"
      ],
      "text/plain": [
       "Marital  Вдовец  Женат  Живут отдельно  Разведены  Холост\n",
       "Status                                                   \n",
       "Плохой       19    829              64         14     328\n",
       "Хороший      48   2412              66         24     649"
      ]
     },
     "execution_count": 466,
     "metadata": {},
     "output_type": "execute_result"
    }
   ],
   "source": [
    "df_task1"
   ]
  },
  {
   "cell_type": "code",
   "execution_count": 467,
   "id": "a19dcca6-1676-4105-9293-02c296801a57",
   "metadata": {},
   "outputs": [],
   "source": [
    "from scipy.stats import chi2_contingency"
   ]
  },
  {
   "cell_type": "markdown",
   "id": "3bf57361-bdd2-476f-a61f-1a21281b5730",
   "metadata": {},
   "source": [
    "Для проверки гипотезы 2 категориальных переменных можно воспользоваться Тестом Пирсона. "
   ]
  },
  {
   "cell_type": "code",
   "execution_count": 468,
   "id": "c7f4a9b4-af40-43c3-bd93-c75394d7eb6e",
   "metadata": {},
   "outputs": [],
   "source": [
    "chi2, p, dof, expected = chi2_contingency(df_task1)"
   ]
  },
  {
   "cell_type": "markdown",
   "id": "5e59238e-291b-4660-8ce0-e0e23aece382",
   "metadata": {},
   "source": [
    "У этого теста нулевая гипотеза говорит, что между кредитным статусом и семейным положением зависимости нет.\n",
    "p-значение существенно ниже 5%, следовательно, данные противоречат нулевой гипотезе и можно её отвергнуть.\n",
    "Между кредитным статусом и семейным положение есть зависимость. "
   ]
  },
  {
   "cell_type": "code",
   "execution_count": 469,
   "id": "d31dbf4c-9b7c-44cc-bafa-d6cd6f57461a",
   "metadata": {},
   "outputs": [
    {
     "name": "stdout",
     "output_type": "stream",
     "text": [
      " p-значение: 3.6323772983499146e-11\n"
     ]
    }
   ],
   "source": [
    "print(f\" p-значение: {p}\")"
   ]
  },
  {
   "cell_type": "markdown",
   "id": "8607cdea-be9f-4b57-9ee2-923048789012",
   "metadata": {},
   "source": [
    "Обоснование гипотезы: Так как переменные имеют значимую зависимость, перед выдачей кредита необходимо смотреть текущий семейный статус. Наиболее стабильные и менее рискованные группы это замужние/женатые и вдовцы"
   ]
  },
  {
   "cell_type": "markdown",
   "id": "551d5661-c0bd-48bc-b3c4-b813c5c5632a",
   "metadata": {},
   "source": [
    "### Задача: Необходимо научить модель предсказывать возможный кредитный статус заемщика. \n",
    "#### Данная задача относиться к бинарной классификации. "
   ]
  },
  {
   "cell_type": "markdown",
   "id": "0aefa6e1-43fd-49cc-abef-2024aa8f9c72",
   "metadata": {},
   "source": [
    "##### Категориальная переменная, которую необходимо предсказать. Заемщик может иметь только 2 статуса \"хороший\" и \"плохой\""
   ]
  },
  {
   "cell_type": "code",
   "execution_count": 375,
   "id": "016868d9-5f80-4793-912d-d28eb023913c",
   "metadata": {},
   "outputs": [
    {
     "data": {
      "text/plain": [
       "array(['good', 'bad'], dtype=object)"
      ]
     },
     "execution_count": 375,
     "metadata": {},
     "output_type": "execute_result"
    }
   ],
   "source": [
    "df.Status.unique()"
   ]
  },
  {
   "cell_type": "markdown",
   "id": "8138dbe2-818e-4cf1-8e4c-59f01db6c80f",
   "metadata": {},
   "source": [
    "#### Далее этот столбец необходимо преобразовать из категориального в числовой. "
   ]
  },
  {
   "cell_type": "code",
   "execution_count": 376,
   "id": "cfcf002d-edd5-4339-a740-0741d4133099",
   "metadata": {},
   "outputs": [],
   "source": [
    "df['Status_encoded'] = df['Status'].astype('category').cat.codes"
   ]
  },
  {
   "cell_type": "code",
   "execution_count": 377,
   "id": "ac38a356-5372-4dc1-9f56-368e2a3824ba",
   "metadata": {},
   "outputs": [
    {
     "data": {
      "text/plain": [
       "0       1\n",
       "1       1\n",
       "2       0\n",
       "3       1\n",
       "4       1\n",
       "       ..\n",
       "4449    0\n",
       "4450    1\n",
       "4451    0\n",
       "4452    1\n",
       "4453    1\n",
       "Name: Status_encoded, Length: 4454, dtype: int8"
      ]
     },
     "execution_count": 377,
     "metadata": {},
     "output_type": "execute_result"
    }
   ],
   "source": [
    "df['Status_encoded']"
   ]
  },
  {
   "cell_type": "markdown",
   "id": "84b3f4b5-8b3d-42e1-be56-c1ba6957209e",
   "metadata": {},
   "source": [
    "#### Ниже приведено описание всех категориальных переменных в датасете"
   ]
  },
  {
   "cell_type": "code",
   "execution_count": 378,
   "id": "683f8f60-3a63-4f80-b194-3a24c7ce8269",
   "metadata": {},
   "outputs": [
    {
     "data": {
      "text/plain": [
       "array(['rent', 'owner', 'parents', 'priv', 'other', 'ignore', nan],\n",
       "      dtype=object)"
      ]
     },
     "execution_count": 378,
     "metadata": {},
     "output_type": "execute_result"
    }
   ],
   "source": [
    "df.Home.unique()"
   ]
  },
  {
   "cell_type": "markdown",
   "id": "2a05f793-2fa0-4430-a314-53fe13ef34bd",
   "metadata": {},
   "source": [
    "#### Удаление пропусков в столбец Home"
   ]
  },
  {
   "cell_type": "code",
   "execution_count": 379,
   "id": "f30d6f9e-2975-4c6a-a101-1f261d63da10",
   "metadata": {},
   "outputs": [],
   "source": [
    "df = df[df['Home'].notna()]"
   ]
  },
  {
   "cell_type": "code",
   "execution_count": 380,
   "id": "e54d01dd-219d-43f2-a419-43372bab1309",
   "metadata": {},
   "outputs": [
    {
     "data": {
      "text/plain": [
       "array(['rent', 'owner', 'parents', 'priv', 'other', 'ignore'],\n",
       "      dtype=object)"
      ]
     },
     "execution_count": 380,
     "metadata": {},
     "output_type": "execute_result"
    }
   ],
   "source": [
    "df.Home.unique()"
   ]
  },
  {
   "cell_type": "code",
   "execution_count": 381,
   "id": "fc817206-0ab7-469c-b9ab-0f72d92313f6",
   "metadata": {},
   "outputs": [
    {
     "data": {
      "text/plain": [
       "array(['married', 'widow', 'single', 'separated', 'divorced', nan],\n",
       "      dtype=object)"
      ]
     },
     "execution_count": 381,
     "metadata": {},
     "output_type": "execute_result"
    }
   ],
   "source": [
    "df.Marital.unique()"
   ]
  },
  {
   "cell_type": "markdown",
   "id": "e7b86b5d-2a57-413e-9c21-e115db35cc50",
   "metadata": {},
   "source": [
    "#### Удаление пропусков в столбец Marital\n"
   ]
  },
  {
   "cell_type": "code",
   "execution_count": 382,
   "id": "50a2f756-9f0e-4421-b5ea-15ad0384496b",
   "metadata": {},
   "outputs": [],
   "source": [
    "df = df[df['Marital'].notna()]"
   ]
  },
  {
   "cell_type": "code",
   "execution_count": 383,
   "id": "a9ea8111-1e2c-4e81-b848-5cea4c119f6c",
   "metadata": {},
   "outputs": [
    {
     "data": {
      "text/plain": [
       "array(['no', 'yes'], dtype=object)"
      ]
     },
     "execution_count": 383,
     "metadata": {},
     "output_type": "execute_result"
    }
   ],
   "source": [
    "df.Records.unique()\n"
   ]
  },
  {
   "cell_type": "code",
   "execution_count": 384,
   "id": "8410956c-9d07-4568-9370-176a29c02d50",
   "metadata": {},
   "outputs": [
    {
     "data": {
      "text/plain": [
       "array(['freelance', 'fixed', 'partime', 'others', nan], dtype=object)"
      ]
     },
     "execution_count": 384,
     "metadata": {},
     "output_type": "execute_result"
    }
   ],
   "source": [
    "df.Job.unique()"
   ]
  },
  {
   "cell_type": "markdown",
   "id": "8e34ca64-1d9a-4a9e-af69-b7d56146d2d4",
   "metadata": {},
   "source": [
    "#### Удаление пропусков в столбец Job"
   ]
  },
  {
   "cell_type": "code",
   "execution_count": 385,
   "id": "ba24b5c7-8629-42e6-9398-4e31a54e9490",
   "metadata": {},
   "outputs": [],
   "source": [
    "df = df[df['Job'].notna()]"
   ]
  },
  {
   "cell_type": "code",
   "execution_count": 386,
   "id": "dc41d8e4-e026-4e4a-83fa-fd8a3d1b02aa",
   "metadata": {},
   "outputs": [
    {
     "data": {
      "text/plain": [
       "array(['freelance', 'fixed', 'partime', 'others'], dtype=object)"
      ]
     },
     "execution_count": 386,
     "metadata": {},
     "output_type": "execute_result"
    }
   ],
   "source": [
    "df.Job.unique()"
   ]
  },
  {
   "cell_type": "markdown",
   "id": "2c2b9b12-c99d-492c-960e-c2bafdbd4b99",
   "metadata": {},
   "source": [
    "#### Далее необходимо изучить числовые переменные "
   ]
  },
  {
   "cell_type": "code",
   "execution_count": 387,
   "id": "607be56c-21c8-45f1-9df4-16b525d0eca3",
   "metadata": {},
   "outputs": [
    {
     "data": {
      "text/plain": [
       "0"
      ]
     },
     "execution_count": 387,
     "metadata": {},
     "output_type": "execute_result"
    }
   ],
   "source": [
    "df.Expenses.isna().sum()"
   ]
  },
  {
   "cell_type": "code",
   "execution_count": 388,
   "id": "b00e02f5-f20c-40b8-8502-7071d8113f88",
   "metadata": {},
   "outputs": [
    {
     "data": {
      "text/plain": [
       "377"
      ]
     },
     "execution_count": 388,
     "metadata": {},
     "output_type": "execute_result"
    }
   ],
   "source": [
    "df.Income.isna().sum()"
   ]
  },
  {
   "cell_type": "markdown",
   "id": "0712ec41-afd2-4b5a-aca9-a1ea8d67fe67",
   "metadata": {},
   "source": [
    "#### Заполнение пропусков в столбце Income медианой "
   ]
  },
  {
   "cell_type": "code",
   "execution_count": 389,
   "id": "b2ec77e9-fafc-48c7-a445-b2fbe887cbf1",
   "metadata": {},
   "outputs": [],
   "source": [
    "median_price = df['Income'].median()\n",
    "df['income_filled_median'] = df['Income'].fillna(median_price)"
   ]
  },
  {
   "cell_type": "code",
   "execution_count": 390,
   "id": "8fe2b458-707e-4e6d-998a-9de0b7fa086c",
   "metadata": {},
   "outputs": [
    {
     "data": {
      "text/plain": [
       "0"
      ]
     },
     "execution_count": 390,
     "metadata": {},
     "output_type": "execute_result"
    }
   ],
   "source": [
    "df.income_filled_median.isna().sum()"
   ]
  },
  {
   "cell_type": "markdown",
   "id": "d601806b-1e24-47f7-ae7f-623aea28b1b8",
   "metadata": {},
   "source": [
    "#### Заполнение пропусков в столбце Assets медианой "
   ]
  },
  {
   "cell_type": "code",
   "execution_count": 391,
   "id": "b0107055-63bb-4c6b-b64b-635e198fc65f",
   "metadata": {},
   "outputs": [
    {
     "data": {
      "text/plain": [
       "41"
      ]
     },
     "execution_count": 391,
     "metadata": {},
     "output_type": "execute_result"
    }
   ],
   "source": [
    "df.Assets.isna().sum()"
   ]
  },
  {
   "cell_type": "code",
   "execution_count": 392,
   "id": "fbedda06-9673-4e48-a20a-6fe8807c31c8",
   "metadata": {},
   "outputs": [],
   "source": [
    "median_price = df['Assets'].median()\n",
    "df['assets_filled_median'] = df['Assets'].fillna(median_price)"
   ]
  },
  {
   "cell_type": "code",
   "execution_count": 393,
   "id": "cc4fe4ae-732b-42a2-9606-68c0777aa1a3",
   "metadata": {},
   "outputs": [
    {
     "data": {
      "text/plain": [
       "0"
      ]
     },
     "execution_count": 393,
     "metadata": {},
     "output_type": "execute_result"
    }
   ],
   "source": [
    "df['assets_filled_median'].isna().sum()"
   ]
  },
  {
   "cell_type": "code",
   "execution_count": 394,
   "id": "539f2820-014b-4b28-9353-8a6d72b5d56e",
   "metadata": {},
   "outputs": [
    {
     "data": {
      "text/plain": [
       "12"
      ]
     },
     "execution_count": 394,
     "metadata": {},
     "output_type": "execute_result"
    }
   ],
   "source": [
    "df.Debt.isna().sum()"
   ]
  },
  {
   "cell_type": "markdown",
   "id": "64e84780-8ea1-49e1-9232-2344f5c63396",
   "metadata": {},
   "source": [
    "#### Заполнение пропусков в столбце Debt медианой "
   ]
  },
  {
   "cell_type": "code",
   "execution_count": 395,
   "id": "d48a49be-bf41-403f-be76-0c3c0180e0bb",
   "metadata": {},
   "outputs": [],
   "source": [
    "median_price = df['Debt'].median()\n",
    "df['debt_filled_median'] = df['Debt'].fillna(median_price)"
   ]
  },
  {
   "cell_type": "code",
   "execution_count": 396,
   "id": "581d4f51-5340-4a4c-9768-eed4dcdf50b5",
   "metadata": {},
   "outputs": [
    {
     "data": {
      "text/plain": [
       "0"
      ]
     },
     "execution_count": 396,
     "metadata": {},
     "output_type": "execute_result"
    }
   ],
   "source": [
    "df['debt_filled_median'].isna().sum()"
   ]
  },
  {
   "cell_type": "code",
   "execution_count": 397,
   "id": "2eb637c3-1c30-4228-82b8-95572fc02ee5",
   "metadata": {},
   "outputs": [
    {
     "data": {
      "text/plain": [
       "0"
      ]
     },
     "execution_count": 397,
     "metadata": {},
     "output_type": "execute_result"
    }
   ],
   "source": [
    "df.Amount.isna().sum()"
   ]
  },
  {
   "cell_type": "code",
   "execution_count": 398,
   "id": "98882a0e-687a-47fd-b5f3-61d3d5ee14d3",
   "metadata": {},
   "outputs": [
    {
     "data": {
      "text/plain": [
       "0"
      ]
     },
     "execution_count": 398,
     "metadata": {},
     "output_type": "execute_result"
    }
   ],
   "source": [
    "df.Price.isna().sum()"
   ]
  },
  {
   "cell_type": "markdown",
   "id": "04e8c49c-8bd3-4c99-bf39-cd3be9e42181",
   "metadata": {},
   "source": [
    "#### Затем необходимо преобразовать категориальные столбцы в числовые, чтобы алгоритм машинного обучения, мог правильно интерпретировать данные "
   ]
  },
  {
   "cell_type": "code",
   "execution_count": 399,
   "id": "affe8886-b134-40e9-8c05-eed668fed29f",
   "metadata": {},
   "outputs": [],
   "source": [
    "df_encoded = pd.get_dummies(df, columns=['Home', 'Marital', 'Records', 'Job'])"
   ]
  },
  {
   "cell_type": "markdown",
   "id": "364a4954-c436-4da9-b314-d198daf4021b",
   "metadata": {},
   "source": [
    "#### Удаляем не нужные столбцы"
   ]
  },
  {
   "cell_type": "code",
   "execution_count": 400,
   "id": "1f75c801-4121-4481-afa2-8ba3ac2c8ce9",
   "metadata": {},
   "outputs": [],
   "source": [
    "df_encoded = df_encoded.drop(['Debt', 'Assets', 'Income', 'Status'], axis=1)"
   ]
  },
  {
   "cell_type": "markdown",
   "id": "c4a5ee48-a607-4528-a377-6be308f0792f",
   "metadata": {},
   "source": [
    "#### Следующий шаг - это разделение датасета, на обучающую, валидационную и тестовую выборку"
   ]
  },
  {
   "cell_type": "code",
   "execution_count": 401,
   "id": "de69136b-d42c-40a4-9110-43042d78ea59",
   "metadata": {},
   "outputs": [],
   "source": [
    "X = df_encoded.loc[:, df_encoded.columns != 'Status_encoded']\n",
    "y = df_encoded.Status_encoded"
   ]
  },
  {
   "cell_type": "markdown",
   "id": "e9f5fa79-4c49-43b0-93f4-b871122a0d40",
   "metadata": {},
   "source": [
    "#### 60% выборки идет на обучение, 40% на тест"
   ]
  },
  {
   "cell_type": "code",
   "execution_count": 402,
   "id": "a80f9345-4dbf-4a7d-a963-72d61ef4f953",
   "metadata": {},
   "outputs": [],
   "source": [
    "X_train, X_test, y_train, y_test = train_test_split(X, y, test_size=0.4, random_state=42)\n"
   ]
  },
  {
   "cell_type": "markdown",
   "id": "26a7179e-45d4-4bb1-a19c-61aaf12bab4d",
   "metadata": {},
   "source": [
    "#### Из тестовой выборки, также надо выделить валидационную "
   ]
  },
  {
   "cell_type": "code",
   "execution_count": 403,
   "id": "1e9db03e-4d6d-40c6-b0f5-398174b36c25",
   "metadata": {},
   "outputs": [],
   "source": [
    "len_y = len(y_test)\n",
    "len_x = len(X_test)\n",
    "y_test_val = y_test[len_y//2:]\n",
    "y_test = y_test[:(len_y-1)//2]\n",
    "\n",
    "x_test_val = X_test[len_x//2:]\n",
    "X_test = X_test[:(len_x-1)//2]\n",
    "\n"
   ]
  },
  {
   "cell_type": "code",
   "execution_count": 404,
   "id": "234d5c25-b267-4050-b0b0-02447c620980",
   "metadata": {},
   "outputs": [
    {
     "data": {
      "text/plain": [
       "(889, 890)"
      ]
     },
     "execution_count": 404,
     "metadata": {},
     "output_type": "execute_result"
    }
   ],
   "source": [
    "len(y_test), len(y_test_val)"
   ]
  },
  {
   "cell_type": "code",
   "execution_count": 405,
   "id": "6d86a389-ffad-4ef4-aa6d-0b2f5d5207ff",
   "metadata": {},
   "outputs": [
    {
     "data": {
      "text/plain": [
       "(890, 889)"
      ]
     },
     "execution_count": 405,
     "metadata": {},
     "output_type": "execute_result"
    }
   ],
   "source": [
    "len(x_test_val), len(X_test)"
   ]
  },
  {
   "cell_type": "code",
   "execution_count": 406,
   "id": "de8991bc-6afb-4fd3-b88e-56352a17c42c",
   "metadata": {},
   "outputs": [
    {
     "data": {
      "text/plain": [
       "(2667, 889)"
      ]
     },
     "execution_count": 406,
     "metadata": {},
     "output_type": "execute_result"
    }
   ],
   "source": [
    "len(X_train), len(X_test)"
   ]
  },
  {
   "cell_type": "code",
   "execution_count": 407,
   "id": "09966d51-404f-4b95-b576-b347fcd739ec",
   "metadata": {},
   "outputs": [
    {
     "data": {
      "text/plain": [
       "(2667, 889)"
      ]
     },
     "execution_count": 407,
     "metadata": {},
     "output_type": "execute_result"
    }
   ],
   "source": [
    "len(y_train), len(y_test)"
   ]
  },
  {
   "cell_type": "markdown",
   "id": "f8bebcb9-4197-405e-b211-714cf01009c3",
   "metadata": {},
   "source": [
    "#### Первый алгоритм классификации: Логистическая Регрессия"
   ]
  },
  {
   "cell_type": "code",
   "execution_count": 408,
   "id": "090cb189-0e5c-4129-b087-bb38cf9c8906",
   "metadata": {},
   "outputs": [],
   "source": [
    "model = LogisticRegression()"
   ]
  },
  {
   "cell_type": "code",
   "execution_count": 409,
   "id": "526d8f14-0249-4f63-8d30-92013ef1e8ef",
   "metadata": {},
   "outputs": [
    {
     "name": "stderr",
     "output_type": "stream",
     "text": [
      "C:\\Users\\Maksim\\anaconda3\\envs\\pytorch\\lib\\site-packages\\sklearn\\linear_model\\_logistic.py:469: ConvergenceWarning: lbfgs failed to converge (status=1):\n",
      "STOP: TOTAL NO. of ITERATIONS REACHED LIMIT.\n",
      "\n",
      "Increase the number of iterations (max_iter) or scale the data as shown in:\n",
      "    https://scikit-learn.org/stable/modules/preprocessing.html\n",
      "Please also refer to the documentation for alternative solver options:\n",
      "    https://scikit-learn.org/stable/modules/linear_model.html#logistic-regression\n",
      "  n_iter_i = _check_optimize_result(\n"
     ]
    },
    {
     "data": {
      "text/html": [
       "<style>#sk-container-id-6 {\n",
       "  /* Definition of color scheme common for light and dark mode */\n",
       "  --sklearn-color-text: black;\n",
       "  --sklearn-color-line: gray;\n",
       "  /* Definition of color scheme for unfitted estimators */\n",
       "  --sklearn-color-unfitted-level-0: #fff5e6;\n",
       "  --sklearn-color-unfitted-level-1: #f6e4d2;\n",
       "  --sklearn-color-unfitted-level-2: #ffe0b3;\n",
       "  --sklearn-color-unfitted-level-3: chocolate;\n",
       "  /* Definition of color scheme for fitted estimators */\n",
       "  --sklearn-color-fitted-level-0: #f0f8ff;\n",
       "  --sklearn-color-fitted-level-1: #d4ebff;\n",
       "  --sklearn-color-fitted-level-2: #b3dbfd;\n",
       "  --sklearn-color-fitted-level-3: cornflowerblue;\n",
       "\n",
       "  /* Specific color for light theme */\n",
       "  --sklearn-color-text-on-default-background: var(--sg-text-color, var(--theme-code-foreground, var(--jp-content-font-color1, black)));\n",
       "  --sklearn-color-background: var(--sg-background-color, var(--theme-background, var(--jp-layout-color0, white)));\n",
       "  --sklearn-color-border-box: var(--sg-text-color, var(--theme-code-foreground, var(--jp-content-font-color1, black)));\n",
       "  --sklearn-color-icon: #696969;\n",
       "\n",
       "  @media (prefers-color-scheme: dark) {\n",
       "    /* Redefinition of color scheme for dark theme */\n",
       "    --sklearn-color-text-on-default-background: var(--sg-text-color, var(--theme-code-foreground, var(--jp-content-font-color1, white)));\n",
       "    --sklearn-color-background: var(--sg-background-color, var(--theme-background, var(--jp-layout-color0, #111)));\n",
       "    --sklearn-color-border-box: var(--sg-text-color, var(--theme-code-foreground, var(--jp-content-font-color1, white)));\n",
       "    --sklearn-color-icon: #878787;\n",
       "  }\n",
       "}\n",
       "\n",
       "#sk-container-id-6 {\n",
       "  color: var(--sklearn-color-text);\n",
       "}\n",
       "\n",
       "#sk-container-id-6 pre {\n",
       "  padding: 0;\n",
       "}\n",
       "\n",
       "#sk-container-id-6 input.sk-hidden--visually {\n",
       "  border: 0;\n",
       "  clip: rect(1px 1px 1px 1px);\n",
       "  clip: rect(1px, 1px, 1px, 1px);\n",
       "  height: 1px;\n",
       "  margin: -1px;\n",
       "  overflow: hidden;\n",
       "  padding: 0;\n",
       "  position: absolute;\n",
       "  width: 1px;\n",
       "}\n",
       "\n",
       "#sk-container-id-6 div.sk-dashed-wrapped {\n",
       "  border: 1px dashed var(--sklearn-color-line);\n",
       "  margin: 0 0.4em 0.5em 0.4em;\n",
       "  box-sizing: border-box;\n",
       "  padding-bottom: 0.4em;\n",
       "  background-color: var(--sklearn-color-background);\n",
       "}\n",
       "\n",
       "#sk-container-id-6 div.sk-container {\n",
       "  /* jupyter's `normalize.less` sets `[hidden] { display: none; }`\n",
       "     but bootstrap.min.css set `[hidden] { display: none !important; }`\n",
       "     so we also need the `!important` here to be able to override the\n",
       "     default hidden behavior on the sphinx rendered scikit-learn.org.\n",
       "     See: https://github.com/scikit-learn/scikit-learn/issues/21755 */\n",
       "  display: inline-block !important;\n",
       "  position: relative;\n",
       "}\n",
       "\n",
       "#sk-container-id-6 div.sk-text-repr-fallback {\n",
       "  display: none;\n",
       "}\n",
       "\n",
       "div.sk-parallel-item,\n",
       "div.sk-serial,\n",
       "div.sk-item {\n",
       "  /* draw centered vertical line to link estimators */\n",
       "  background-image: linear-gradient(var(--sklearn-color-text-on-default-background), var(--sklearn-color-text-on-default-background));\n",
       "  background-size: 2px 100%;\n",
       "  background-repeat: no-repeat;\n",
       "  background-position: center center;\n",
       "}\n",
       "\n",
       "/* Parallel-specific style estimator block */\n",
       "\n",
       "#sk-container-id-6 div.sk-parallel-item::after {\n",
       "  content: \"\";\n",
       "  width: 100%;\n",
       "  border-bottom: 2px solid var(--sklearn-color-text-on-default-background);\n",
       "  flex-grow: 1;\n",
       "}\n",
       "\n",
       "#sk-container-id-6 div.sk-parallel {\n",
       "  display: flex;\n",
       "  align-items: stretch;\n",
       "  justify-content: center;\n",
       "  background-color: var(--sklearn-color-background);\n",
       "  position: relative;\n",
       "}\n",
       "\n",
       "#sk-container-id-6 div.sk-parallel-item {\n",
       "  display: flex;\n",
       "  flex-direction: column;\n",
       "}\n",
       "\n",
       "#sk-container-id-6 div.sk-parallel-item:first-child::after {\n",
       "  align-self: flex-end;\n",
       "  width: 50%;\n",
       "}\n",
       "\n",
       "#sk-container-id-6 div.sk-parallel-item:last-child::after {\n",
       "  align-self: flex-start;\n",
       "  width: 50%;\n",
       "}\n",
       "\n",
       "#sk-container-id-6 div.sk-parallel-item:only-child::after {\n",
       "  width: 0;\n",
       "}\n",
       "\n",
       "/* Serial-specific style estimator block */\n",
       "\n",
       "#sk-container-id-6 div.sk-serial {\n",
       "  display: flex;\n",
       "  flex-direction: column;\n",
       "  align-items: center;\n",
       "  background-color: var(--sklearn-color-background);\n",
       "  padding-right: 1em;\n",
       "  padding-left: 1em;\n",
       "}\n",
       "\n",
       "\n",
       "/* Toggleable style: style used for estimator/Pipeline/ColumnTransformer box that is\n",
       "clickable and can be expanded/collapsed.\n",
       "- Pipeline and ColumnTransformer use this feature and define the default style\n",
       "- Estimators will overwrite some part of the style using the `sk-estimator` class\n",
       "*/\n",
       "\n",
       "/* Pipeline and ColumnTransformer style (default) */\n",
       "\n",
       "#sk-container-id-6 div.sk-toggleable {\n",
       "  /* Default theme specific background. It is overwritten whether we have a\n",
       "  specific estimator or a Pipeline/ColumnTransformer */\n",
       "  background-color: var(--sklearn-color-background);\n",
       "}\n",
       "\n",
       "/* Toggleable label */\n",
       "#sk-container-id-6 label.sk-toggleable__label {\n",
       "  cursor: pointer;\n",
       "  display: block;\n",
       "  width: 100%;\n",
       "  margin-bottom: 0;\n",
       "  padding: 0.5em;\n",
       "  box-sizing: border-box;\n",
       "  text-align: center;\n",
       "}\n",
       "\n",
       "#sk-container-id-6 label.sk-toggleable__label-arrow:before {\n",
       "  /* Arrow on the left of the label */\n",
       "  content: \"▸\";\n",
       "  float: left;\n",
       "  margin-right: 0.25em;\n",
       "  color: var(--sklearn-color-icon);\n",
       "}\n",
       "\n",
       "#sk-container-id-6 label.sk-toggleable__label-arrow:hover:before {\n",
       "  color: var(--sklearn-color-text);\n",
       "}\n",
       "\n",
       "/* Toggleable content - dropdown */\n",
       "\n",
       "#sk-container-id-6 div.sk-toggleable__content {\n",
       "  max-height: 0;\n",
       "  max-width: 0;\n",
       "  overflow: hidden;\n",
       "  text-align: left;\n",
       "  /* unfitted */\n",
       "  background-color: var(--sklearn-color-unfitted-level-0);\n",
       "}\n",
       "\n",
       "#sk-container-id-6 div.sk-toggleable__content.fitted {\n",
       "  /* fitted */\n",
       "  background-color: var(--sklearn-color-fitted-level-0);\n",
       "}\n",
       "\n",
       "#sk-container-id-6 div.sk-toggleable__content pre {\n",
       "  margin: 0.2em;\n",
       "  border-radius: 0.25em;\n",
       "  color: var(--sklearn-color-text);\n",
       "  /* unfitted */\n",
       "  background-color: var(--sklearn-color-unfitted-level-0);\n",
       "}\n",
       "\n",
       "#sk-container-id-6 div.sk-toggleable__content.fitted pre {\n",
       "  /* unfitted */\n",
       "  background-color: var(--sklearn-color-fitted-level-0);\n",
       "}\n",
       "\n",
       "#sk-container-id-6 input.sk-toggleable__control:checked~div.sk-toggleable__content {\n",
       "  /* Expand drop-down */\n",
       "  max-height: 200px;\n",
       "  max-width: 100%;\n",
       "  overflow: auto;\n",
       "}\n",
       "\n",
       "#sk-container-id-6 input.sk-toggleable__control:checked~label.sk-toggleable__label-arrow:before {\n",
       "  content: \"▾\";\n",
       "}\n",
       "\n",
       "/* Pipeline/ColumnTransformer-specific style */\n",
       "\n",
       "#sk-container-id-6 div.sk-label input.sk-toggleable__control:checked~label.sk-toggleable__label {\n",
       "  color: var(--sklearn-color-text);\n",
       "  background-color: var(--sklearn-color-unfitted-level-2);\n",
       "}\n",
       "\n",
       "#sk-container-id-6 div.sk-label.fitted input.sk-toggleable__control:checked~label.sk-toggleable__label {\n",
       "  background-color: var(--sklearn-color-fitted-level-2);\n",
       "}\n",
       "\n",
       "/* Estimator-specific style */\n",
       "\n",
       "/* Colorize estimator box */\n",
       "#sk-container-id-6 div.sk-estimator input.sk-toggleable__control:checked~label.sk-toggleable__label {\n",
       "  /* unfitted */\n",
       "  background-color: var(--sklearn-color-unfitted-level-2);\n",
       "}\n",
       "\n",
       "#sk-container-id-6 div.sk-estimator.fitted input.sk-toggleable__control:checked~label.sk-toggleable__label {\n",
       "  /* fitted */\n",
       "  background-color: var(--sklearn-color-fitted-level-2);\n",
       "}\n",
       "\n",
       "#sk-container-id-6 div.sk-label label.sk-toggleable__label,\n",
       "#sk-container-id-6 div.sk-label label {\n",
       "  /* The background is the default theme color */\n",
       "  color: var(--sklearn-color-text-on-default-background);\n",
       "}\n",
       "\n",
       "/* On hover, darken the color of the background */\n",
       "#sk-container-id-6 div.sk-label:hover label.sk-toggleable__label {\n",
       "  color: var(--sklearn-color-text);\n",
       "  background-color: var(--sklearn-color-unfitted-level-2);\n",
       "}\n",
       "\n",
       "/* Label box, darken color on hover, fitted */\n",
       "#sk-container-id-6 div.sk-label.fitted:hover label.sk-toggleable__label.fitted {\n",
       "  color: var(--sklearn-color-text);\n",
       "  background-color: var(--sklearn-color-fitted-level-2);\n",
       "}\n",
       "\n",
       "/* Estimator label */\n",
       "\n",
       "#sk-container-id-6 div.sk-label label {\n",
       "  font-family: monospace;\n",
       "  font-weight: bold;\n",
       "  display: inline-block;\n",
       "  line-height: 1.2em;\n",
       "}\n",
       "\n",
       "#sk-container-id-6 div.sk-label-container {\n",
       "  text-align: center;\n",
       "}\n",
       "\n",
       "/* Estimator-specific */\n",
       "#sk-container-id-6 div.sk-estimator {\n",
       "  font-family: monospace;\n",
       "  border: 1px dotted var(--sklearn-color-border-box);\n",
       "  border-radius: 0.25em;\n",
       "  box-sizing: border-box;\n",
       "  margin-bottom: 0.5em;\n",
       "  /* unfitted */\n",
       "  background-color: var(--sklearn-color-unfitted-level-0);\n",
       "}\n",
       "\n",
       "#sk-container-id-6 div.sk-estimator.fitted {\n",
       "  /* fitted */\n",
       "  background-color: var(--sklearn-color-fitted-level-0);\n",
       "}\n",
       "\n",
       "/* on hover */\n",
       "#sk-container-id-6 div.sk-estimator:hover {\n",
       "  /* unfitted */\n",
       "  background-color: var(--sklearn-color-unfitted-level-2);\n",
       "}\n",
       "\n",
       "#sk-container-id-6 div.sk-estimator.fitted:hover {\n",
       "  /* fitted */\n",
       "  background-color: var(--sklearn-color-fitted-level-2);\n",
       "}\n",
       "\n",
       "/* Specification for estimator info (e.g. \"i\" and \"?\") */\n",
       "\n",
       "/* Common style for \"i\" and \"?\" */\n",
       "\n",
       ".sk-estimator-doc-link,\n",
       "a:link.sk-estimator-doc-link,\n",
       "a:visited.sk-estimator-doc-link {\n",
       "  float: right;\n",
       "  font-size: smaller;\n",
       "  line-height: 1em;\n",
       "  font-family: monospace;\n",
       "  background-color: var(--sklearn-color-background);\n",
       "  border-radius: 1em;\n",
       "  height: 1em;\n",
       "  width: 1em;\n",
       "  text-decoration: none !important;\n",
       "  margin-left: 1ex;\n",
       "  /* unfitted */\n",
       "  border: var(--sklearn-color-unfitted-level-1) 1pt solid;\n",
       "  color: var(--sklearn-color-unfitted-level-1);\n",
       "}\n",
       "\n",
       ".sk-estimator-doc-link.fitted,\n",
       "a:link.sk-estimator-doc-link.fitted,\n",
       "a:visited.sk-estimator-doc-link.fitted {\n",
       "  /* fitted */\n",
       "  border: var(--sklearn-color-fitted-level-1) 1pt solid;\n",
       "  color: var(--sklearn-color-fitted-level-1);\n",
       "}\n",
       "\n",
       "/* On hover */\n",
       "div.sk-estimator:hover .sk-estimator-doc-link:hover,\n",
       ".sk-estimator-doc-link:hover,\n",
       "div.sk-label-container:hover .sk-estimator-doc-link:hover,\n",
       ".sk-estimator-doc-link:hover {\n",
       "  /* unfitted */\n",
       "  background-color: var(--sklearn-color-unfitted-level-3);\n",
       "  color: var(--sklearn-color-background);\n",
       "  text-decoration: none;\n",
       "}\n",
       "\n",
       "div.sk-estimator.fitted:hover .sk-estimator-doc-link.fitted:hover,\n",
       ".sk-estimator-doc-link.fitted:hover,\n",
       "div.sk-label-container:hover .sk-estimator-doc-link.fitted:hover,\n",
       ".sk-estimator-doc-link.fitted:hover {\n",
       "  /* fitted */\n",
       "  background-color: var(--sklearn-color-fitted-level-3);\n",
       "  color: var(--sklearn-color-background);\n",
       "  text-decoration: none;\n",
       "}\n",
       "\n",
       "/* Span, style for the box shown on hovering the info icon */\n",
       ".sk-estimator-doc-link span {\n",
       "  display: none;\n",
       "  z-index: 9999;\n",
       "  position: relative;\n",
       "  font-weight: normal;\n",
       "  right: .2ex;\n",
       "  padding: .5ex;\n",
       "  margin: .5ex;\n",
       "  width: min-content;\n",
       "  min-width: 20ex;\n",
       "  max-width: 50ex;\n",
       "  color: var(--sklearn-color-text);\n",
       "  box-shadow: 2pt 2pt 4pt #999;\n",
       "  /* unfitted */\n",
       "  background: var(--sklearn-color-unfitted-level-0);\n",
       "  border: .5pt solid var(--sklearn-color-unfitted-level-3);\n",
       "}\n",
       "\n",
       ".sk-estimator-doc-link.fitted span {\n",
       "  /* fitted */\n",
       "  background: var(--sklearn-color-fitted-level-0);\n",
       "  border: var(--sklearn-color-fitted-level-3);\n",
       "}\n",
       "\n",
       ".sk-estimator-doc-link:hover span {\n",
       "  display: block;\n",
       "}\n",
       "\n",
       "/* \"?\"-specific style due to the `<a>` HTML tag */\n",
       "\n",
       "#sk-container-id-6 a.estimator_doc_link {\n",
       "  float: right;\n",
       "  font-size: 1rem;\n",
       "  line-height: 1em;\n",
       "  font-family: monospace;\n",
       "  background-color: var(--sklearn-color-background);\n",
       "  border-radius: 1rem;\n",
       "  height: 1rem;\n",
       "  width: 1rem;\n",
       "  text-decoration: none;\n",
       "  /* unfitted */\n",
       "  color: var(--sklearn-color-unfitted-level-1);\n",
       "  border: var(--sklearn-color-unfitted-level-1) 1pt solid;\n",
       "}\n",
       "\n",
       "#sk-container-id-6 a.estimator_doc_link.fitted {\n",
       "  /* fitted */\n",
       "  border: var(--sklearn-color-fitted-level-1) 1pt solid;\n",
       "  color: var(--sklearn-color-fitted-level-1);\n",
       "}\n",
       "\n",
       "/* On hover */\n",
       "#sk-container-id-6 a.estimator_doc_link:hover {\n",
       "  /* unfitted */\n",
       "  background-color: var(--sklearn-color-unfitted-level-3);\n",
       "  color: var(--sklearn-color-background);\n",
       "  text-decoration: none;\n",
       "}\n",
       "\n",
       "#sk-container-id-6 a.estimator_doc_link.fitted:hover {\n",
       "  /* fitted */\n",
       "  background-color: var(--sklearn-color-fitted-level-3);\n",
       "}\n",
       "</style><div id=\"sk-container-id-6\" class=\"sk-top-container\"><div class=\"sk-text-repr-fallback\"><pre>LogisticRegression()</pre><b>In a Jupyter environment, please rerun this cell to show the HTML representation or trust the notebook. <br />On GitHub, the HTML representation is unable to render, please try loading this page with nbviewer.org.</b></div><div class=\"sk-container\" hidden><div class=\"sk-item\"><div class=\"sk-estimator fitted sk-toggleable\"><input class=\"sk-toggleable__control sk-hidden--visually\" id=\"sk-estimator-id-6\" type=\"checkbox\" checked><label for=\"sk-estimator-id-6\" class=\"sk-toggleable__label fitted sk-toggleable__label-arrow fitted\">&nbsp;&nbsp;LogisticRegression<a class=\"sk-estimator-doc-link fitted\" rel=\"noreferrer\" target=\"_blank\" href=\"https://scikit-learn.org/1.5/modules/generated/sklearn.linear_model.LogisticRegression.html\">?<span>Documentation for LogisticRegression</span></a><span class=\"sk-estimator-doc-link fitted\">i<span>Fitted</span></span></label><div class=\"sk-toggleable__content fitted\"><pre>LogisticRegression()</pre></div> </div></div></div></div>"
      ],
      "text/plain": [
       "LogisticRegression()"
      ]
     },
     "execution_count": 409,
     "metadata": {},
     "output_type": "execute_result"
    }
   ],
   "source": [
    "model.fit(X_train, y_train)"
   ]
  },
  {
   "cell_type": "markdown",
   "id": "c5bf1cb1-2ab1-4973-b17d-329b086c5c60",
   "metadata": {},
   "source": [
    "#### "
   ]
  },
  {
   "cell_type": "code",
   "execution_count": 410,
   "id": "7fc9e4c0-57c7-47a1-b671-f91349952146",
   "metadata": {},
   "outputs": [],
   "source": [
    "y_pred = model.predict(X_test)"
   ]
  },
  {
   "cell_type": "code",
   "execution_count": null,
   "id": "27e8429f-f314-4fb3-beab-ea7184029ee3",
   "metadata": {},
   "outputs": [],
   "source": []
  },
  {
   "cell_type": "code",
   "execution_count": 411,
   "id": "5d030843-ad57-45ab-abb3-31b3ccfa19f1",
   "metadata": {},
   "outputs": [
    {
     "name": "stdout",
     "output_type": "stream",
     "text": [
      "Точность модели на тестовых данных: 0.7367829021372329\n",
      "\n",
      "Отчет классификации Логистической регрессии:\n",
      "              precision    recall  f1-score   support\n",
      "\n",
      "        Good       0.68      0.25      0.37       270\n",
      "         Bed       0.74      0.95      0.83       619\n",
      "\n",
      "    accuracy                           0.74       889\n",
      "   macro avg       0.71      0.60      0.60       889\n",
      "weighted avg       0.72      0.74      0.69       889\n",
      "\n"
     ]
    }
   ],
   "source": [
    "print(\"Точность модели на тестовых данных:\", accuracy_score(y_test, y_pred))\n",
    "print(\"\\nОтчет классификации Логистической регрессии:\")\n",
    "print(classification_report(y_test, y_pred, target_names=['Good', 'Bed']))"
   ]
  },
  {
   "cell_type": "code",
   "execution_count": 412,
   "id": "37350dda-3d9a-4cd6-9993-da904e6c360c",
   "metadata": {},
   "outputs": [
    {
     "name": "stdout",
     "output_type": "stream",
     "text": [
      "Точность модели на валидационных данных: 0.751685393258427\n",
      "\n",
      "Отчет классификации:\n",
      "              precision    recall  f1-score   support\n",
      "\n",
      "        Good       0.68      0.25      0.37       270\n",
      "         Bed       0.74      0.95      0.83       619\n",
      "\n",
      "    accuracy                           0.74       889\n",
      "   macro avg       0.71      0.60      0.60       889\n",
      "weighted avg       0.72      0.74      0.69       889\n",
      "\n"
     ]
    }
   ],
   "source": [
    "y_pred_val = model.predict(x_test_val)\n",
    "\n",
    "print(\"Точность модели на валидационных данных:\", accuracy_score(y_test_val, y_pred_val))\n",
    "print(\"\\nОтчет классификации:\")\n",
    "print(classification_report(y_test, y_pred, target_names=['Good', 'Bed']))"
   ]
  },
  {
   "cell_type": "code",
   "execution_count": 413,
   "id": "31893581-25ff-468a-bc38-b9db3539184d",
   "metadata": {},
   "outputs": [],
   "source": [
    "result_dict['log'].append(accuracy_score(y_test_val, y_pred_val))"
   ]
  },
  {
   "cell_type": "markdown",
   "id": "f41b3036-f94b-4b61-88e3-459489a4004a",
   "metadata": {},
   "source": [
    "#### Второй алгоритм классификации: Случайный лес"
   ]
  },
  {
   "cell_type": "code",
   "execution_count": null,
   "id": "2a36eb3e-93fe-482c-b12f-98107813ef6c",
   "metadata": {},
   "outputs": [],
   "source": []
  },
  {
   "cell_type": "code",
   "execution_count": 414,
   "id": "e743caf7-21de-4c51-8954-b3426af54323",
   "metadata": {},
   "outputs": [],
   "source": [
    "from sklearn.ensemble import RandomForestClassifier\n",
    "\n",
    "# Обучение случайного леса\n",
    "model = RandomForestClassifier(n_estimators=100, random_state=42)\n",
    "model.fit(X_train, y_train)\n",
    "y_pred = model.predict(X_test)\n"
   ]
  },
  {
   "cell_type": "code",
   "execution_count": 415,
   "id": "5c346d40-adcd-4aa8-8f53-3d94423059d0",
   "metadata": {},
   "outputs": [
    {
     "name": "stdout",
     "output_type": "stream",
     "text": [
      "Точность модели на тестовых данных: 0.7941507311586051\n",
      "\n",
      "Отчет классификации:\n",
      "              precision    recall  f1-score   support\n",
      "\n",
      "        Good       0.73      0.51      0.60       270\n",
      "         Bed       0.81      0.92      0.86       619\n",
      "\n",
      "    accuracy                           0.79       889\n",
      "   macro avg       0.77      0.71      0.73       889\n",
      "weighted avg       0.79      0.79      0.78       889\n",
      "\n"
     ]
    }
   ],
   "source": [
    "# Оцениваем модель\n",
    "print(\"Точность модели на тестовых данных:\", accuracy_score(y_test, y_pred))\n",
    "print(\"\\nОтчет классификации:\")\n",
    "print(classification_report(y_test, y_pred, target_names=['Good', 'Bed']))"
   ]
  },
  {
   "cell_type": "code",
   "execution_count": 416,
   "id": "8d6f45f1-c74e-4437-a7fb-34f6dce5215e",
   "metadata": {},
   "outputs": [
    {
     "name": "stdout",
     "output_type": "stream",
     "text": [
      "Точность модели на валидационных данных: 0.7786516853932585\n",
      "\n",
      "Отчет классификации:\n",
      "              precision    recall  f1-score   support\n",
      "\n",
      "        Good       0.73      0.51      0.60       270\n",
      "         Bed       0.81      0.92      0.86       619\n",
      "\n",
      "    accuracy                           0.79       889\n",
      "   macro avg       0.77      0.71      0.73       889\n",
      "weighted avg       0.79      0.79      0.78       889\n",
      "\n"
     ]
    }
   ],
   "source": [
    "y_pred_val = model.predict(x_test_val)\n",
    "# Оцениваем модель\n",
    "print(\"Точность модели на валидационных данных:\", accuracy_score(y_test_val, y_pred_val))\n",
    "print(\"\\nОтчет классификации:\")\n",
    "print(classification_report(y_test, y_pred, target_names=['Good', 'Bed']))"
   ]
  },
  {
   "cell_type": "code",
   "execution_count": 417,
   "id": "4155f2cb-c549-4de8-befc-23a02a41ff5e",
   "metadata": {},
   "outputs": [],
   "source": [
    "result_dict['forest'].append(accuracy_score(y_test_val, y_pred_val))"
   ]
  },
  {
   "cell_type": "markdown",
   "id": "e59e3959-e3f1-4684-9b26-c01094d0bc5c",
   "metadata": {},
   "source": [
    "#### Третий алгоритм классификации: Градиентный бустинг"
   ]
  },
  {
   "cell_type": "code",
   "execution_count": 418,
   "id": "e693ba22-9f21-4795-9425-378a533fb8f5",
   "metadata": {},
   "outputs": [],
   "source": [
    "from sklearn.ensemble import GradientBoostingClassifier\n",
    "\n",
    "# Обучение градиентного бустинга\n",
    "model = GradientBoostingClassifier()\n",
    "model.fit(X_train, y_train)\n",
    "y_pred = model.predict(X_test)\n"
   ]
  },
  {
   "cell_type": "code",
   "execution_count": 419,
   "id": "3a0051a1-a5ea-4141-8399-bae03e160290",
   "metadata": {},
   "outputs": [
    {
     "name": "stdout",
     "output_type": "stream",
     "text": [
      "Точность модели на тестовых данных: 0.8087739032620922\n",
      "\n",
      "Отчет классификации:\n",
      "              precision    recall  f1-score   support\n",
      "\n",
      "        Good       0.77      0.53      0.63       270\n",
      "         Bed       0.82      0.93      0.87       619\n",
      "\n",
      "    accuracy                           0.81       889\n",
      "   macro avg       0.80      0.73      0.75       889\n",
      "weighted avg       0.80      0.81      0.80       889\n",
      "\n"
     ]
    }
   ],
   "source": [
    "# Оцениваем модель\n",
    "print(\"Точность модели на тестовых данных:\", accuracy_score(y_test, y_pred))\n",
    "print(\"\\nОтчет классификации:\")\n",
    "print(classification_report(y_test, y_pred, target_names=['Good', 'Bed']))"
   ]
  },
  {
   "cell_type": "code",
   "execution_count": 420,
   "id": "70ef801f-be2b-4806-899f-ee3d9a711ce6",
   "metadata": {},
   "outputs": [
    {
     "name": "stdout",
     "output_type": "stream",
     "text": [
      "Точность модели на валидационных данных: 0.7943820224719101\n",
      "\n",
      "Отчет классификации:\n",
      "              precision    recall  f1-score   support\n",
      "\n",
      "        Good       0.77      0.53      0.63       270\n",
      "         Bed       0.82      0.93      0.87       619\n",
      "\n",
      "    accuracy                           0.81       889\n",
      "   macro avg       0.80      0.73      0.75       889\n",
      "weighted avg       0.80      0.81      0.80       889\n",
      "\n"
     ]
    }
   ],
   "source": [
    "y_pred_val = model.predict(x_test_val)\n",
    "# Оцениваем модель\n",
    "print(\"Точность модели на валидационных данных:\", accuracy_score(y_test_val, y_pred_val))\n",
    "print(\"\\nОтчет классификации:\")\n",
    "print(classification_report(y_test, y_pred, target_names=['Good', 'Bed']))"
   ]
  },
  {
   "cell_type": "code",
   "execution_count": 421,
   "id": "058c0748-fe99-4dc9-a0da-9a461304148b",
   "metadata": {},
   "outputs": [],
   "source": [
    "result_dict['boost'].append(accuracy_score(y_test_val, y_pred_val))"
   ]
  },
  {
   "cell_type": "markdown",
   "id": "75517ea1-5852-46e6-a2b2-476af6dd6078",
   "metadata": {},
   "source": [
    "#### Лучший результат показал алгоритм градиентного бустинга с точностью 79%\n",
    "#### Точность неплохая, однако хотелось бы её увеличить. Для этого можно нормализовать данные.\n",
    "#### Для этого можно воспользоваться функцией preprocessing"
   ]
  },
  {
   "cell_type": "code",
   "execution_count": 422,
   "id": "9e700516-d5bc-4aca-b607-77d259f1426f",
   "metadata": {},
   "outputs": [],
   "source": [
    "from sklearn import preprocessing"
   ]
  },
  {
   "cell_type": "markdown",
   "id": "d2ac4bcf-c667-483a-a88c-85d355acbcf4",
   "metadata": {},
   "source": [
    "#### Преобразуем все данные, кроме столбца Status_encoded"
   ]
  },
  {
   "cell_type": "code",
   "execution_count": 423,
   "id": "9ebb6b4c-6a4f-40d4-8a95-f010795ab35b",
   "metadata": {},
   "outputs": [
    {
     "data": {
      "text/html": [
       "<div>\n",
       "<style scoped>\n",
       "    .dataframe tbody tr th:only-of-type {\n",
       "        vertical-align: middle;\n",
       "    }\n",
       "\n",
       "    .dataframe tbody tr th {\n",
       "        vertical-align: top;\n",
       "    }\n",
       "\n",
       "    .dataframe thead th {\n",
       "        text-align: right;\n",
       "    }\n",
       "</style>\n",
       "<table border=\"1\" class=\"dataframe\">\n",
       "  <thead>\n",
       "    <tr style=\"text-align: right;\">\n",
       "      <th></th>\n",
       "      <th>Seniority</th>\n",
       "      <th>Time</th>\n",
       "      <th>Age</th>\n",
       "      <th>Expenses</th>\n",
       "      <th>Amount</th>\n",
       "      <th>Price</th>\n",
       "      <th>Status_encoded</th>\n",
       "      <th>income_filled_median</th>\n",
       "      <th>assets_filled_median</th>\n",
       "      <th>debt_filled_median</th>\n",
       "      <th>...</th>\n",
       "      <th>Marital_divorced</th>\n",
       "      <th>Marital_married</th>\n",
       "      <th>Marital_separated</th>\n",
       "      <th>Marital_single</th>\n",
       "      <th>Marital_widow</th>\n",
       "      <th>Records_no</th>\n",
       "      <th>Records_yes</th>\n",
       "      <th>Job_fixed</th>\n",
       "      <th>Job_freelance</th>\n",
       "      <th>Job_others</th>\n",
       "    </tr>\n",
       "  </thead>\n",
       "  <tbody>\n",
       "    <tr>\n",
       "      <th>0</th>\n",
       "      <td>0.007655</td>\n",
       "      <td>0.051033</td>\n",
       "      <td>0.025517</td>\n",
       "      <td>0.062091</td>\n",
       "      <td>0.680446</td>\n",
       "      <td>0.719571</td>\n",
       "      <td>0.109722</td>\n",
       "      <td>0.000000</td>\n",
       "      <td>0.0</td>\n",
       "      <td>0.0</td>\n",
       "      <td>...</td>\n",
       "      <td>0.000851</td>\n",
       "      <td>0.0</td>\n",
       "      <td>0.000000</td>\n",
       "      <td>0.000000</td>\n",
       "      <td>0.000851</td>\n",
       "      <td>0.000000</td>\n",
       "      <td>0.000000</td>\n",
       "      <td>0.000851</td>\n",
       "      <td>0.0</td>\n",
       "      <td>0.0</td>\n",
       "    </tr>\n",
       "    <tr>\n",
       "      <th>1</th>\n",
       "      <td>0.008749</td>\n",
       "      <td>0.030878</td>\n",
       "      <td>0.029849</td>\n",
       "      <td>0.024703</td>\n",
       "      <td>0.514638</td>\n",
       "      <td>0.853270</td>\n",
       "      <td>0.067418</td>\n",
       "      <td>0.000000</td>\n",
       "      <td>0.0</td>\n",
       "      <td>0.0</td>\n",
       "      <td>...</td>\n",
       "      <td>0.000000</td>\n",
       "      <td>0.0</td>\n",
       "      <td>0.000000</td>\n",
       "      <td>0.000515</td>\n",
       "      <td>0.000515</td>\n",
       "      <td>0.000000</td>\n",
       "      <td>0.000515</td>\n",
       "      <td>0.000000</td>\n",
       "      <td>0.0</td>\n",
       "      <td>0.0</td>\n",
       "    </tr>\n",
       "    <tr>\n",
       "      <th>2</th>\n",
       "      <td>0.002134</td>\n",
       "      <td>0.007682</td>\n",
       "      <td>0.009816</td>\n",
       "      <td>0.019205</td>\n",
       "      <td>0.426772</td>\n",
       "      <td>0.636957</td>\n",
       "      <td>0.042677</td>\n",
       "      <td>0.640158</td>\n",
       "      <td>0.0</td>\n",
       "      <td>0.0</td>\n",
       "      <td>...</td>\n",
       "      <td>0.000213</td>\n",
       "      <td>0.0</td>\n",
       "      <td>0.000000</td>\n",
       "      <td>0.000000</td>\n",
       "      <td>0.000000</td>\n",
       "      <td>0.000213</td>\n",
       "      <td>0.000000</td>\n",
       "      <td>0.000213</td>\n",
       "      <td>0.0</td>\n",
       "      <td>0.0</td>\n",
       "    </tr>\n",
       "    <tr>\n",
       "      <th>3</th>\n",
       "      <td>0.000000</td>\n",
       "      <td>0.020161</td>\n",
       "      <td>0.008064</td>\n",
       "      <td>0.021169</td>\n",
       "      <td>0.302414</td>\n",
       "      <td>0.445220</td>\n",
       "      <td>0.061155</td>\n",
       "      <td>0.840038</td>\n",
       "      <td>0.0</td>\n",
       "      <td>0.0</td>\n",
       "      <td>...</td>\n",
       "      <td>0.000000</td>\n",
       "      <td>0.0</td>\n",
       "      <td>0.000336</td>\n",
       "      <td>0.000000</td>\n",
       "      <td>0.000336</td>\n",
       "      <td>0.000000</td>\n",
       "      <td>0.000336</td>\n",
       "      <td>0.000000</td>\n",
       "      <td>0.0</td>\n",
       "      <td>0.0</td>\n",
       "    </tr>\n",
       "    <tr>\n",
       "      <th>4</th>\n",
       "      <td>0.000000</td>\n",
       "      <td>0.037136</td>\n",
       "      <td>0.026821</td>\n",
       "      <td>0.047452</td>\n",
       "      <td>0.319785</td>\n",
       "      <td>0.938723</td>\n",
       "      <td>0.110377</td>\n",
       "      <td>0.000000</td>\n",
       "      <td>0.0</td>\n",
       "      <td>0.0</td>\n",
       "      <td>...</td>\n",
       "      <td>0.000000</td>\n",
       "      <td>0.0</td>\n",
       "      <td>0.001032</td>\n",
       "      <td>0.000000</td>\n",
       "      <td>0.001032</td>\n",
       "      <td>0.000000</td>\n",
       "      <td>0.001032</td>\n",
       "      <td>0.000000</td>\n",
       "      <td>0.0</td>\n",
       "      <td>0.0</td>\n",
       "    </tr>\n",
       "  </tbody>\n",
       "</table>\n",
       "<p>5 rows × 26 columns</p>\n",
       "</div>"
      ],
      "text/plain": [
       "   Seniority      Time       Age  Expenses    Amount     Price  \\\n",
       "0   0.007655  0.051033  0.025517  0.062091  0.680446  0.719571   \n",
       "1   0.008749  0.030878  0.029849  0.024703  0.514638  0.853270   \n",
       "2   0.002134  0.007682  0.009816  0.019205  0.426772  0.636957   \n",
       "3   0.000000  0.020161  0.008064  0.021169  0.302414  0.445220   \n",
       "4   0.000000  0.037136  0.026821  0.047452  0.319785  0.938723   \n",
       "\n",
       "   Status_encoded  income_filled_median  assets_filled_median  \\\n",
       "0        0.109722              0.000000                   0.0   \n",
       "1        0.067418              0.000000                   0.0   \n",
       "2        0.042677              0.640158                   0.0   \n",
       "3        0.061155              0.840038                   0.0   \n",
       "4        0.110377              0.000000                   0.0   \n",
       "\n",
       "   debt_filled_median  ...  Marital_divorced  Marital_married  \\\n",
       "0                 0.0  ...          0.000851              0.0   \n",
       "1                 0.0  ...          0.000000              0.0   \n",
       "2                 0.0  ...          0.000213              0.0   \n",
       "3                 0.0  ...          0.000000              0.0   \n",
       "4                 0.0  ...          0.000000              0.0   \n",
       "\n",
       "   Marital_separated  Marital_single  Marital_widow  Records_no  Records_yes  \\\n",
       "0           0.000000        0.000000       0.000851    0.000000     0.000000   \n",
       "1           0.000000        0.000515       0.000515    0.000000     0.000515   \n",
       "2           0.000000        0.000000       0.000000    0.000213     0.000000   \n",
       "3           0.000336        0.000000       0.000336    0.000000     0.000336   \n",
       "4           0.001032        0.000000       0.001032    0.000000     0.001032   \n",
       "\n",
       "   Job_fixed  Job_freelance  Job_others  \n",
       "0   0.000851            0.0         0.0  \n",
       "1   0.000000            0.0         0.0  \n",
       "2   0.000213            0.0         0.0  \n",
       "3   0.000000            0.0         0.0  \n",
       "4   0.000000            0.0         0.0  \n",
       "\n",
       "[5 rows x 26 columns]"
      ]
     },
     "execution_count": 423,
     "metadata": {},
     "output_type": "execute_result"
    }
   ],
   "source": [
    "d = preprocessing.normalize(df_encoded.loc[:, df_encoded.columns != 'Status_encoded'])\n",
    "scaled_df = pd.DataFrame(d, columns = df_encoded.columns[:len(df_encoded.columns)-1])\n",
    "scaled_df.head()"
   ]
  },
  {
   "cell_type": "code",
   "execution_count": 424,
   "id": "bbbdb9f5-78f4-43a8-9971-a2c0be09bcb8",
   "metadata": {},
   "outputs": [],
   "source": [
    "scaled_df['Status_encoded'] = df_encoded['Status_encoded']"
   ]
  },
  {
   "cell_type": "code",
   "execution_count": 425,
   "id": "2d528cae-42f0-4256-8d7f-72f34cfedb5a",
   "metadata": {},
   "outputs": [],
   "source": [
    "scaled_df = scaled_df.dropna()"
   ]
  },
  {
   "cell_type": "code",
   "execution_count": 426,
   "id": "8d542458-a3fc-45ce-b815-cd14ced1c75f",
   "metadata": {},
   "outputs": [],
   "source": [
    "X = scaled_df.loc[:, scaled_df.columns != 'Status_encoded']\n",
    "y = scaled_df.Status_encoded"
   ]
  },
  {
   "cell_type": "code",
   "execution_count": 427,
   "id": "89a67d07-22dc-4cce-8984-3f83c31fd3a4",
   "metadata": {},
   "outputs": [],
   "source": [
    "X_train, X_test, y_train, y_test = train_test_split(X, y, test_size=0.4, random_state=42)"
   ]
  },
  {
   "cell_type": "code",
   "execution_count": 428,
   "id": "b75ef792-efe5-4a36-8e90-d25285046974",
   "metadata": {},
   "outputs": [],
   "source": [
    "len_y = len(y_test)\n",
    "len_x = len(X_test)\n",
    "y_test_val = y_test[len_y//2:]\n",
    "y_test = y_test[:(len_y-1)//2]\n",
    "\n",
    "x_test_val = X_test[len_x//2:]\n",
    "X_test = X_test[:(len_x-1)//2]"
   ]
  },
  {
   "cell_type": "markdown",
   "id": "17381131-c499-4754-8a45-021fda76999a",
   "metadata": {},
   "source": [
    "#### Первый алгоритм классификации: Логистическая Регрессия"
   ]
  },
  {
   "cell_type": "code",
   "execution_count": 429,
   "id": "6c169eca-4d91-43c0-bfe0-5ba94b4bdfe7",
   "metadata": {},
   "outputs": [
    {
     "name": "stdout",
     "output_type": "stream",
     "text": [
      "Точность модели: 0.7001127395715896\n",
      "\n",
      "Отчет классификации:\n",
      "              precision    recall  f1-score   support\n",
      "\n",
      "        Good       0.00      0.00      0.00       266\n",
      "         Bed       0.70      1.00      0.82       621\n",
      "\n",
      "    accuracy                           0.70       887\n",
      "   macro avg       0.35      0.50      0.41       887\n",
      "weighted avg       0.49      0.70      0.58       887\n",
      "\n"
     ]
    },
    {
     "name": "stderr",
     "output_type": "stream",
     "text": [
      "C:\\Users\\Maksim\\anaconda3\\envs\\pytorch\\lib\\site-packages\\sklearn\\metrics\\_classification.py:1517: UndefinedMetricWarning: Precision is ill-defined and being set to 0.0 in labels with no predicted samples. Use `zero_division` parameter to control this behavior.\n",
      "  _warn_prf(average, modifier, f\"{metric.capitalize()} is\", len(result))\n",
      "C:\\Users\\Maksim\\anaconda3\\envs\\pytorch\\lib\\site-packages\\sklearn\\metrics\\_classification.py:1517: UndefinedMetricWarning: Precision is ill-defined and being set to 0.0 in labels with no predicted samples. Use `zero_division` parameter to control this behavior.\n",
      "  _warn_prf(average, modifier, f\"{metric.capitalize()} is\", len(result))\n",
      "C:\\Users\\Maksim\\anaconda3\\envs\\pytorch\\lib\\site-packages\\sklearn\\metrics\\_classification.py:1517: UndefinedMetricWarning: Precision is ill-defined and being set to 0.0 in labels with no predicted samples. Use `zero_division` parameter to control this behavior.\n",
      "  _warn_prf(average, modifier, f\"{metric.capitalize()} is\", len(result))\n"
     ]
    }
   ],
   "source": [
    "model = LogisticRegression()\n",
    "model.fit(X_train, y_train)\n",
    "y_pred = model.predict(X_test)\n",
    "# Оцениваем модель\n",
    "print(\"Точность модели:\", accuracy_score(y_test, y_pred))\n",
    "print(\"\\nОтчет классификации:\")\n",
    "print(classification_report(y_test, y_pred, target_names=['Good', 'Bed']))"
   ]
  },
  {
   "cell_type": "code",
   "execution_count": 430,
   "id": "2575cc32-df15-47b2-957d-d20b148dcf31",
   "metadata": {},
   "outputs": [
    {
     "name": "stdout",
     "output_type": "stream",
     "text": [
      "Точность модели: 0.7195945945945946\n",
      "\n",
      "Отчет классификации:\n",
      "              precision    recall  f1-score   support\n",
      "\n",
      "        Good       0.00      0.00      0.00       266\n",
      "         Bed       0.70      1.00      0.82       621\n",
      "\n",
      "    accuracy                           0.70       887\n",
      "   macro avg       0.35      0.50      0.41       887\n",
      "weighted avg       0.49      0.70      0.58       887\n",
      "\n"
     ]
    },
    {
     "name": "stderr",
     "output_type": "stream",
     "text": [
      "C:\\Users\\Maksim\\anaconda3\\envs\\pytorch\\lib\\site-packages\\sklearn\\metrics\\_classification.py:1517: UndefinedMetricWarning: Precision is ill-defined and being set to 0.0 in labels with no predicted samples. Use `zero_division` parameter to control this behavior.\n",
      "  _warn_prf(average, modifier, f\"{metric.capitalize()} is\", len(result))\n",
      "C:\\Users\\Maksim\\anaconda3\\envs\\pytorch\\lib\\site-packages\\sklearn\\metrics\\_classification.py:1517: UndefinedMetricWarning: Precision is ill-defined and being set to 0.0 in labels with no predicted samples. Use `zero_division` parameter to control this behavior.\n",
      "  _warn_prf(average, modifier, f\"{metric.capitalize()} is\", len(result))\n",
      "C:\\Users\\Maksim\\anaconda3\\envs\\pytorch\\lib\\site-packages\\sklearn\\metrics\\_classification.py:1517: UndefinedMetricWarning: Precision is ill-defined and being set to 0.0 in labels with no predicted samples. Use `zero_division` parameter to control this behavior.\n",
      "  _warn_prf(average, modifier, f\"{metric.capitalize()} is\", len(result))\n"
     ]
    }
   ],
   "source": [
    "y_pred_val = model.predict(x_test_val)\n",
    "# Оцениваем модель\n",
    "print(\"Точность модели:\", accuracy_score(y_test_val, y_pred_val))\n",
    "print(\"\\nОтчет классификации:\")\n",
    "print(classification_report(y_test, y_pred, target_names=['Good', 'Bed']))"
   ]
  },
  {
   "cell_type": "code",
   "execution_count": 431,
   "id": "146d3670-3410-48c5-bc02-573a859a5165",
   "metadata": {},
   "outputs": [],
   "source": [
    "result_dict['log'].append(accuracy_score(y_test_val, y_pred_val))"
   ]
  },
  {
   "cell_type": "markdown",
   "id": "ac78c5b0-808e-4aa9-8a77-0292469368e1",
   "metadata": {},
   "source": [
    "#### Второй алгоритм классификации: Случайный лес"
   ]
  },
  {
   "cell_type": "code",
   "execution_count": 432,
   "id": "24863941-3ba6-43da-8b6a-02e7e6cba1de",
   "metadata": {},
   "outputs": [],
   "source": [
    "# Обучение случайного леса\n",
    "model = RandomForestClassifier(n_estimators=100, random_state=42)\n",
    "model.fit(X_train, y_train)\n",
    "y_pred = model.predict(X_test)\n"
   ]
  },
  {
   "cell_type": "code",
   "execution_count": 433,
   "id": "752d3948-7930-421b-9921-212a8b8726e3",
   "metadata": {},
   "outputs": [
    {
     "name": "stdout",
     "output_type": "stream",
     "text": [
      "Точность модели: 0.6719278466741826\n",
      "\n",
      "Отчет классификации:\n",
      "              precision    recall  f1-score   support\n",
      "\n",
      "        Good       0.27      0.06      0.09       266\n",
      "         Bed       0.70      0.94      0.80       621\n",
      "\n",
      "    accuracy                           0.67       887\n",
      "   macro avg       0.49      0.50      0.45       887\n",
      "weighted avg       0.57      0.67      0.59       887\n",
      "\n"
     ]
    }
   ],
   "source": [
    "# Оцениваем модель\n",
    "print(\"Точность модели:\", accuracy_score(y_test, y_pred))\n",
    "print(\"\\nОтчет классификации:\")\n",
    "print(classification_report(y_test, y_pred, target_names=['Good', 'Bed']))"
   ]
  },
  {
   "cell_type": "code",
   "execution_count": 434,
   "id": "54380a0f-e2b3-4e0c-aade-605c3bd23ae6",
   "metadata": {},
   "outputs": [
    {
     "name": "stdout",
     "output_type": "stream",
     "text": [
      "Точность модели: 0.7015765765765766\n",
      "\n",
      "Отчет классификации:\n",
      "              precision    recall  f1-score   support\n",
      "\n",
      "        Good       0.27      0.06      0.09       266\n",
      "         Bed       0.70      0.94      0.80       621\n",
      "\n",
      "    accuracy                           0.67       887\n",
      "   macro avg       0.49      0.50      0.45       887\n",
      "weighted avg       0.57      0.67      0.59       887\n",
      "\n"
     ]
    }
   ],
   "source": [
    "y_pred_val = model.predict(x_test_val)\n",
    "# Оцениваем модель\n",
    "print(\"Точность модели:\", accuracy_score(y_test_val, y_pred_val))\n",
    "print(\"\\nОтчет классификации:\")\n",
    "print(classification_report(y_test, y_pred, target_names=['Good', 'Bed']))"
   ]
  },
  {
   "cell_type": "code",
   "execution_count": 435,
   "id": "866e228e-b6be-4f1b-aaad-cb3895e28eb0",
   "metadata": {},
   "outputs": [],
   "source": [
    "result_dict['forest'].append(accuracy_score(y_test_val, y_pred_val))"
   ]
  },
  {
   "cell_type": "markdown",
   "id": "8e09d643-268b-44f0-9f04-d4773b939f34",
   "metadata": {},
   "source": [
    "#### Третий алгоритм классификации: Градиентный бустинг"
   ]
  },
  {
   "cell_type": "code",
   "execution_count": 436,
   "id": "0e4bed2b-de85-4d55-9849-4fff5bd510d4",
   "metadata": {},
   "outputs": [
    {
     "name": "stdout",
     "output_type": "stream",
     "text": [
      "Точность модели: 0.677564825253664\n"
     ]
    }
   ],
   "source": [
    "# Обучение градиентного бустинга\n",
    "model = GradientBoostingClassifier()\n",
    "model.fit(X_train, y_train)\n",
    "y_pred = model.predict(X_test)\n",
    "# Оценка точности\n",
    "accuracy = model.score(X_test, y_test)\n",
    "print(\"Точность модели:\", accuracy)"
   ]
  },
  {
   "cell_type": "code",
   "execution_count": 437,
   "id": "b5798920-55c8-45ad-a4f3-4960e5f08198",
   "metadata": {},
   "outputs": [
    {
     "name": "stdout",
     "output_type": "stream",
     "text": [
      "Точность модели: 0.677564825253664\n",
      "\n",
      "Отчет классификации:\n",
      "              precision    recall  f1-score   support\n",
      "\n",
      "        Good       0.12      0.01      0.02       266\n",
      "         Bed       0.69      0.96      0.81       621\n",
      "\n",
      "    accuracy                           0.68       887\n",
      "   macro avg       0.40      0.49      0.41       887\n",
      "weighted avg       0.52      0.68      0.57       887\n",
      "\n"
     ]
    }
   ],
   "source": [
    "# Оцениваем модель\n",
    "print(\"Точность модели:\", accuracy_score(y_test, y_pred))\n",
    "print(\"\\nОтчет классификации:\")\n",
    "print(classification_report(y_test, y_pred, target_names=['Good', 'Bed']))"
   ]
  },
  {
   "cell_type": "code",
   "execution_count": 438,
   "id": "70ab14e9-c21a-4bfe-9d79-4182c2727bb9",
   "metadata": {},
   "outputs": [
    {
     "name": "stdout",
     "output_type": "stream",
     "text": [
      "Точность модели: 0.7072072072072072\n",
      "\n",
      "Отчет классификации:\n",
      "              precision    recall  f1-score   support\n",
      "\n",
      "        Good       0.12      0.01      0.02       266\n",
      "         Bed       0.69      0.96      0.81       621\n",
      "\n",
      "    accuracy                           0.68       887\n",
      "   macro avg       0.40      0.49      0.41       887\n",
      "weighted avg       0.52      0.68      0.57       887\n",
      "\n"
     ]
    }
   ],
   "source": [
    "y_pred_val = model.predict(x_test_val)\n",
    "# Оцениваем модель\n",
    "print(\"Точность модели:\", accuracy_score(y_test_val, y_pred_val))\n",
    "print(\"\\nОтчет классификации:\")\n",
    "print(classification_report(y_test, y_pred, target_names=['Good', 'Bed']))"
   ]
  },
  {
   "cell_type": "code",
   "execution_count": 439,
   "id": "d0607412-f3cb-4c69-8187-b0c2104bf58f",
   "metadata": {},
   "outputs": [],
   "source": [
    "result_dict['boost'].append(accuracy_score(y_test_val, y_pred_val))"
   ]
  },
  {
   "cell_type": "code",
   "execution_count": 444,
   "id": "69857361-4e09-4016-813c-73f11ee5d37d",
   "metadata": {},
   "outputs": [],
   "source": [
    "d = pd.DataFrame(data = result_dict, index = ['Не нормализованные', 'Нормализованные'])"
   ]
  },
  {
   "cell_type": "markdown",
   "id": "4b4d9a4e-b11b-43cb-a875-59bd0736a811",
   "metadata": {},
   "source": [
    "#### В таблице ниже видно, что модели обученные на нормализованных данных, имеют результат ниже. \n",
    "#### Так лучше всего српавился алгоритм градиентного бустинга, обученный на не нормализованных данных. \n",
    "#### Итоговый результат: 79%"
   ]
  },
  {
   "cell_type": "code",
   "execution_count": 445,
   "id": "f73df8c5-d8dd-4953-8cfd-df87ae4eb38b",
   "metadata": {},
   "outputs": [
    {
     "data": {
      "text/html": [
       "<div>\n",
       "<style scoped>\n",
       "    .dataframe tbody tr th:only-of-type {\n",
       "        vertical-align: middle;\n",
       "    }\n",
       "\n",
       "    .dataframe tbody tr th {\n",
       "        vertical-align: top;\n",
       "    }\n",
       "\n",
       "    .dataframe thead th {\n",
       "        text-align: right;\n",
       "    }\n",
       "</style>\n",
       "<table border=\"1\" class=\"dataframe\">\n",
       "  <thead>\n",
       "    <tr style=\"text-align: right;\">\n",
       "      <th></th>\n",
       "      <th>log</th>\n",
       "      <th>forest</th>\n",
       "      <th>boost</th>\n",
       "    </tr>\n",
       "  </thead>\n",
       "  <tbody>\n",
       "    <tr>\n",
       "      <th>Не нормализованные</th>\n",
       "      <td>0.751685</td>\n",
       "      <td>0.778652</td>\n",
       "      <td>0.794382</td>\n",
       "    </tr>\n",
       "    <tr>\n",
       "      <th>Нормализованные</th>\n",
       "      <td>0.719595</td>\n",
       "      <td>0.701577</td>\n",
       "      <td>0.707207</td>\n",
       "    </tr>\n",
       "  </tbody>\n",
       "</table>\n",
       "</div>"
      ],
      "text/plain": [
       "                         log    forest     boost\n",
       "Не нормализованные  0.751685  0.778652  0.794382\n",
       "Нормализованные     0.719595  0.701577  0.707207"
      ]
     },
     "execution_count": 445,
     "metadata": {},
     "output_type": "execute_result"
    }
   ],
   "source": [
    "d"
   ]
  },
  {
   "cell_type": "markdown",
   "id": "4403ead9-5895-4af9-b74d-919251c70fa8",
   "metadata": {},
   "source": [
    "#### Практическая  значимость: Если у кредитора есть сомнения по поводу заемщика, то он может при помощи данной модели, дополнительно оценить статус заемщики. И затем сделать вывод по поводу кредита"
   ]
  },
  {
   "cell_type": "code",
   "execution_count": null,
   "id": "2b0f3dba-384e-4cdb-aaa2-3d0fce2c88ff",
   "metadata": {},
   "outputs": [],
   "source": []
  }
 ],
 "metadata": {
  "kernelspec": {
   "display_name": "Python 3 (ipykernel)",
   "language": "python",
   "name": "python3"
  },
  "language_info": {
   "codemirror_mode": {
    "name": "ipython",
    "version": 3
   },
   "file_extension": ".py",
   "mimetype": "text/x-python",
   "name": "python",
   "nbconvert_exporter": "python",
   "pygments_lexer": "ipython3",
   "version": "3.10.14"
  }
 },
 "nbformat": 4,
 "nbformat_minor": 5
}
