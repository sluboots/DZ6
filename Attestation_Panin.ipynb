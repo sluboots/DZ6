{
 "cells": [
  {
   "cell_type": "code",
   "execution_count": 930,
   "id": "af66e22a",
   "metadata": {},
   "outputs": [],
   "source": [
    "import pandas as pd\n",
    "import numpy as np\n",
    "import matplotlib.pyplot as plt\n",
    "import statsmodels.api as sm"
   ]
  },
  {
   "cell_type": "markdown",
   "id": "7267d662",
   "metadata": {},
   "source": [
    "### Загружаем данные"
   ]
  },
  {
   "cell_type": "code",
   "execution_count": 931,
   "id": "6b59ffa7",
   "metadata": {},
   "outputs": [
    {
     "data": {
      "text/html": [
       "<div>\n",
       "<style scoped>\n",
       "    .dataframe tbody tr th:only-of-type {\n",
       "        vertical-align: middle;\n",
       "    }\n",
       "\n",
       "    .dataframe tbody tr th {\n",
       "        vertical-align: top;\n",
       "    }\n",
       "\n",
       "    .dataframe thead th {\n",
       "        text-align: right;\n",
       "    }\n",
       "</style>\n",
       "<table border=\"1\" class=\"dataframe\">\n",
       "  <thead>\n",
       "    <tr style=\"text-align: right;\">\n",
       "      <th></th>\n",
       "      <th>Status</th>\n",
       "      <th>Seniority</th>\n",
       "      <th>Home</th>\n",
       "      <th>Time</th>\n",
       "      <th>Age</th>\n",
       "      <th>Marital</th>\n",
       "      <th>Records</th>\n",
       "      <th>Job</th>\n",
       "      <th>Expenses</th>\n",
       "      <th>Income</th>\n",
       "      <th>Assets</th>\n",
       "      <th>Debt</th>\n",
       "      <th>Amount</th>\n",
       "      <th>Price</th>\n",
       "    </tr>\n",
       "  </thead>\n",
       "  <tbody>\n",
       "    <tr>\n",
       "      <th>0</th>\n",
       "      <td>good</td>\n",
       "      <td>9</td>\n",
       "      <td>rent</td>\n",
       "      <td>60</td>\n",
       "      <td>30</td>\n",
       "      <td>married</td>\n",
       "      <td>no</td>\n",
       "      <td>freelance</td>\n",
       "      <td>73</td>\n",
       "      <td>129.0</td>\n",
       "      <td>0.0</td>\n",
       "      <td>0.0</td>\n",
       "      <td>800</td>\n",
       "      <td>846</td>\n",
       "    </tr>\n",
       "    <tr>\n",
       "      <th>1</th>\n",
       "      <td>good</td>\n",
       "      <td>17</td>\n",
       "      <td>rent</td>\n",
       "      <td>60</td>\n",
       "      <td>58</td>\n",
       "      <td>widow</td>\n",
       "      <td>no</td>\n",
       "      <td>fixed</td>\n",
       "      <td>48</td>\n",
       "      <td>131.0</td>\n",
       "      <td>0.0</td>\n",
       "      <td>0.0</td>\n",
       "      <td>1000</td>\n",
       "      <td>1658</td>\n",
       "    </tr>\n",
       "    <tr>\n",
       "      <th>2</th>\n",
       "      <td>bad</td>\n",
       "      <td>10</td>\n",
       "      <td>owner</td>\n",
       "      <td>36</td>\n",
       "      <td>46</td>\n",
       "      <td>married</td>\n",
       "      <td>yes</td>\n",
       "      <td>freelance</td>\n",
       "      <td>90</td>\n",
       "      <td>200.0</td>\n",
       "      <td>3000.0</td>\n",
       "      <td>0.0</td>\n",
       "      <td>2000</td>\n",
       "      <td>2985</td>\n",
       "    </tr>\n",
       "    <tr>\n",
       "      <th>3</th>\n",
       "      <td>good</td>\n",
       "      <td>0</td>\n",
       "      <td>rent</td>\n",
       "      <td>60</td>\n",
       "      <td>24</td>\n",
       "      <td>single</td>\n",
       "      <td>no</td>\n",
       "      <td>fixed</td>\n",
       "      <td>63</td>\n",
       "      <td>182.0</td>\n",
       "      <td>2500.0</td>\n",
       "      <td>0.0</td>\n",
       "      <td>900</td>\n",
       "      <td>1325</td>\n",
       "    </tr>\n",
       "    <tr>\n",
       "      <th>4</th>\n",
       "      <td>good</td>\n",
       "      <td>0</td>\n",
       "      <td>rent</td>\n",
       "      <td>36</td>\n",
       "      <td>26</td>\n",
       "      <td>single</td>\n",
       "      <td>no</td>\n",
       "      <td>fixed</td>\n",
       "      <td>46</td>\n",
       "      <td>107.0</td>\n",
       "      <td>0.0</td>\n",
       "      <td>0.0</td>\n",
       "      <td>310</td>\n",
       "      <td>910</td>\n",
       "    </tr>\n",
       "  </tbody>\n",
       "</table>\n",
       "</div>"
      ],
      "text/plain": [
       "  Status  Seniority   Home  Time  Age  Marital Records        Job  Expenses  \\\n",
       "0   good          9   rent    60   30  married      no  freelance        73   \n",
       "1   good         17   rent    60   58    widow      no      fixed        48   \n",
       "2    bad         10  owner    36   46  married     yes  freelance        90   \n",
       "3   good          0   rent    60   24   single      no      fixed        63   \n",
       "4   good          0   rent    36   26   single      no      fixed        46   \n",
       "\n",
       "   Income  Assets  Debt  Amount  Price  \n",
       "0   129.0     0.0   0.0     800    846  \n",
       "1   131.0     0.0   0.0    1000   1658  \n",
       "2   200.0  3000.0   0.0    2000   2985  \n",
       "3   182.0  2500.0   0.0     900   1325  \n",
       "4   107.0     0.0   0.0     310    910  "
      ]
     },
     "execution_count": 931,
     "metadata": {},
     "output_type": "execute_result"
    }
   ],
   "source": [
    "item = 'credit_data' # Выбрать из поля Item для вашего датасета\n",
    "package = 'modeldata' # Выбрать из поля Package для вашего датасета\n",
    "\n",
    "df = sm.datasets.get_rdataset(item, package , cache=True).data\n",
    "df.head()"
   ]
  },
  {
   "cell_type": "markdown",
   "id": "4b64630d",
   "metadata": {},
   "source": [
    "### Далее идет ваше решение"
   ]
  },
  {
   "cell_type": "markdown",
   "id": "95cd0e77",
   "metadata": {},
   "source": [
    "Задание\n",
    "\n",
    "1) Изучите внимательно ваш датасет и смысл переменных, которые в нем содержатся\n",
    "\n",
    "2) Сформулируйте на базе переменных три вида гипотез:\n",
    "    а) Выберите две категориальные переменные и сформулируйте гипотезу об их взаимосвязи\n",
    "    б) Выберите одну категориальную и одну числовую переменную и сформулируйте гипотезу об их взаимосвязи\n",
    "    в) Выберите две числовые переменные и сформулируйте гипотезу об их взаимосвязи\n",
    "    \n",
    "3) Для каждой гипотезы постарайтесь привести логический смысл, почему вы считаете, что эта взаимосвязь должна существовать и какую форму взаимосвязи вы ожидаете. Что это дает с практической точки зрения?\n",
    "\n",
    "4) Для выбранных переменных проведите разведочный анализ данных. Приведите наиболее подходящие описательные статистики, частотные распределения, постройте графики, которые бы давали представление как о переменных по отдельности, так и об их взаимосвязи\n",
    "\n",
    "5) Проведите очистку данных от пропусков, выбросов и некорректных значений любым выбранным способом. Постарайтесь обосновать этот способ.\n",
    "\n",
    "6) Протестируйте распределение числовой переменной на соответствие нормальному. Постройте QQ-plot и гистограмму.\n",
    "\n",
    "7) Проведите тесты гипотез из пункта (2) и сделайте выводы. Какой практический смысл имеют результаты проведенных тестов? Как их можно использовать?\n",
    "\n",
    "8) Результат сохранить на GitHub и отправить в виде ссылки на файл + блокнота в формате ipynb\n",
    "\n",
    "Помните, что просто посчитать - это половина задания. К каждому шагу нужны пояснения и описания. Старайтесь структурировать ваш код, чтобы он был понятен стороннуму пользователю!"
   ]
  },
  {
   "cell_type": "markdown",
   "id": "b9b91f72-af53-45ef-a64b-ef4d5f2b8933",
   "metadata": {},
   "source": [
    "## Первая гипотеза. Семейное положение (Marital) влияет на кредитный статус (Status). "
   ]
  },
  {
   "cell_type": "code",
   "execution_count": null,
   "id": "4b08d8e1-c124-471f-b680-576b84019b8b",
   "metadata": {},
   "outputs": [],
   "source": [
    "df.Status.unique()"
   ]
  },
  {
   "cell_type": "markdown",
   "id": "2d48d24b-fdc1-4e51-8c72-55090d022b60",
   "metadata": {},
   "source": [
    "Всего есть два кредитных статуса: \"Хороший\" и \"Плохой\""
   ]
  },
  {
   "cell_type": "code",
   "execution_count": null,
   "id": "da646219-d134-418a-a444-b574298b0776",
   "metadata": {},
   "outputs": [],
   "source": [
    "df.Marital.unique()"
   ]
  },
  {
   "cell_type": "markdown",
   "id": "f5b4b60b-bcf1-4335-ac4e-53d0a15d5f54",
   "metadata": {},
   "source": [
    "Столбец семейное положение состоит из таких элементов, как: женаты/замужем, вдова/вдовец, холост, живут отдельно, разведены, и nan. NaN означает, наличие пропуска."
   ]
  },
  {
   "cell_type": "code",
   "execution_count": null,
   "id": "4bc8a347-34c7-48a5-aad7-b50ecfd74287",
   "metadata": {},
   "outputs": [],
   "source": [
    "df.isnull().sum()"
   ]
  },
  {
   "cell_type": "markdown",
   "id": "95420fd5-1a0e-4c01-af8e-ee58e6a53473",
   "metadata": {},
   "source": [
    "Для данной гипотезы нужны столбцы Статус и Семейное положение. Семейное положение имеет один пропуск, думаю эту строчку можно спокойно удалить, она не должна повлиять на датасет. "
   ]
  },
  {
   "cell_type": "code",
   "execution_count": null,
   "id": "022c89aa-cb35-40b1-82e8-a1044b89236b",
   "metadata": {},
   "outputs": [],
   "source": [
    "df = df[df['Marital'].notna()]"
   ]
  },
  {
   "cell_type": "code",
   "execution_count": null,
   "id": "349fa19d-f2b6-4ef5-894c-ab352b694117",
   "metadata": {},
   "outputs": [],
   "source": [
    "df.isnull().sum()"
   ]
  },
  {
   "cell_type": "markdown",
   "id": "c2fe2afa-6654-4c0e-8e99-42a150a3f77c",
   "metadata": {},
   "source": [
    "Для удобства переименую содержимое столбцов Статус и Семейное положение."
   ]
  },
  {
   "cell_type": "code",
   "execution_count": null,
   "id": "7d4f31c2-2d75-47c8-a4d1-3a2346487977",
   "metadata": {},
   "outputs": [],
   "source": [
    "df = df.replace({'good': 'Хороший', 'bad': 'Плохой', 'married': 'Женат', 'widow': 'Вдовец', 'single': 'Холост', \n",
    "            'separated': 'Живут отдельно', 'divorced': 'Разведены'})"
   ]
  },
  {
   "cell_type": "markdown",
   "id": "c5486b85-c14a-40aa-b967-8a9776e0c19d",
   "metadata": {},
   "source": [
    "Как видно на графике ниже, в большинстве случаев, заёмщик имеет хорошую репутацию. "
   ]
  },
  {
   "cell_type": "code",
   "execution_count": null,
   "id": "ca322d4f-ed02-400c-964e-721379ce2a8c",
   "metadata": {},
   "outputs": [],
   "source": [
    "sns.histplot(data=df, x=\"Status\", color=\"skyblue\")\n",
    "plt.title(\"Box Plot распределения\")\n",
    "plt.xlabel(\"Значения\")\n",
    "plt.show()"
   ]
  },
  {
   "cell_type": "markdown",
   "id": "d0c315cf-97c6-4a8e-bbcd-28ec6599f4cf",
   "metadata": {},
   "source": [
    "Теперь необходимо посмотреть на распределение столбца Marital. На графике ниже, видно, что из 4209 заёмщиков, 3000 имеют статус женаты/замужем. Распределение явно не нормальное. "
   ]
  },
  {
   "cell_type": "code",
   "execution_count": null,
   "id": "1611786e-4396-4ce6-ab0e-f609e7eaf759",
   "metadata": {},
   "outputs": [],
   "source": [
    "sns.histplot(data=df, x=\"Marital\", color=\"skyblue\")\n",
    "plt.title(\"Box Plot распределения\")\n",
    "plt.xlabel(\"Значения\")\n",
    "plt.show()"
   ]
  },
  {
   "cell_type": "markdown",
   "id": "0fa3ad02-58bf-4a6e-8228-455bbc65559e",
   "metadata": {},
   "source": [
    "Далее была составлена кросс таблица для столбцов Status и Marital"
   ]
  },
  {
   "cell_type": "code",
   "execution_count": null,
   "id": "5a98f9cf-247c-4a2f-9c0a-9783a38f815f",
   "metadata": {},
   "outputs": [],
   "source": [
    "df_task1 = pd.crosstab(df['Status'], df['Marital']) "
   ]
  },
  {
   "cell_type": "code",
   "execution_count": null,
   "id": "e2a61162-338b-416f-ae14-302d9bf9dc06",
   "metadata": {},
   "outputs": [],
   "source": [
    "df_task1"
   ]
  },
  {
   "cell_type": "code",
   "execution_count": null,
   "id": "943825fe-52fa-494a-b123-77607a51cabf",
   "metadata": {},
   "outputs": [],
   "source": [
    "from scipy.stats import chi2_contingency"
   ]
  },
  {
   "cell_type": "markdown",
   "id": "aedf8e6e-4e6d-47c8-98c6-4f7a0589ddd1",
   "metadata": {},
   "source": [
    "Для проверки гипотезы 2 категориальных переменных можно воспользоваться Тестом Пирсона. "
   ]
  },
  {
   "cell_type": "code",
   "execution_count": null,
   "id": "1b3e4034-6bbd-48ef-b309-5b3ccc29d122",
   "metadata": {},
   "outputs": [],
   "source": [
    "chi2, p, dof, expected = chi2_contingency(df_task1)"
   ]
  },
  {
   "cell_type": "markdown",
   "id": "f2fc1d7e-0135-4952-b4fe-93f21be8dc01",
   "metadata": {},
   "source": [
    "У этого теста нулевая гипотеза говорит, что между кредитным статусом и семейным положением зависимости нет.\n",
    "p-значение существенно ниже 5%, следовательно, данные противоречат нулевой гипотезе и можно её отвергнуть.\n",
    "Между кредитным статусом и семейным положение есть зависимость. "
   ]
  },
  {
   "cell_type": "code",
   "execution_count": null,
   "id": "5d11b4ad-bf2d-4455-a731-1a5e50533e1f",
   "metadata": {},
   "outputs": [],
   "source": [
    "print(f\" p-значение: {p}\")"
   ]
  },
  {
   "cell_type": "markdown",
   "id": "113e0a04-bda5-4391-8bc5-6013db32843f",
   "metadata": {},
   "source": [
    "Обоснование гипотезы: Так как переменные имеют значимую зависимость, перед выдачей кредита необходимо смотреть текущий семейный статус. Наиболее стабильные и менее рискованные группы это замужние/женатые и вдовцы"
   ]
  },
  {
   "cell_type": "markdown",
   "id": "9ac9d011-ca55-4efa-8cb3-b844172ae70e",
   "metadata": {},
   "source": [
    "## Вторая гипотеза: Сумма активов (Assets), кто имеет фиксированное время работы (fixed в столбце Job), больше, чем у остальных."
   ]
  },
  {
   "cell_type": "markdown",
   "id": "42d99c8b-4fc2-4a27-8e9c-877cb8c07db3",
   "metadata": {},
   "source": [
    "Первым делом, проверю из чего состоит столбец Job."
   ]
  },
  {
   "cell_type": "code",
   "execution_count": null,
   "id": "456b9b6e-4de1-4d65-a358-937d19e6d2ff",
   "metadata": {},
   "outputs": [],
   "source": [
    "df.Job.unique()"
   ]
  },
  {
   "cell_type": "code",
   "execution_count": null,
   "id": "d4ca06b6-450b-4ffe-8575-a55e41aa0897",
   "metadata": {},
   "outputs": [],
   "source": [
    "df = df.replace({'freelance': 'Фриланс', 'fixed': 'Фикс. время работы', 'partime': 'Неполная занятость', 'others': 'Другое'})"
   ]
  },
  {
   "cell_type": "markdown",
   "id": "b6bdd4f0-ff6e-451d-a684-fa211fb7406b",
   "metadata": {},
   "source": [
    "В данном столбец имеются 2 пропуска, думаю их можно спокойно удалить"
   ]
  },
  {
   "cell_type": "code",
   "execution_count": null,
   "id": "45f70f4a-2a7f-422d-94f9-9b53c28104c0",
   "metadata": {},
   "outputs": [],
   "source": [
    "df.Job.isna().sum()"
   ]
  },
  {
   "cell_type": "code",
   "execution_count": null,
   "id": "5c08b759-6f7d-4e62-941c-be4c2104fcb5",
   "metadata": {},
   "outputs": [],
   "source": [
    "df = df[df['Job'].notna()]"
   ]
  },
  {
   "cell_type": "code",
   "execution_count": null,
   "id": "7109654d-2c56-4251-a849-cb35aea11b78",
   "metadata": {},
   "outputs": [],
   "source": [
    "df.Job.isna().sum()"
   ]
  },
  {
   "cell_type": "markdown",
   "id": "f65aa8ed-1fde-46e5-9242-e805baa33660",
   "metadata": {},
   "source": [
    "По распределению столбца Job, видно, что наиболее сильно выделяется заёмщики, у которых фиксированное время работы, более 2500 человек. Сумма же оставшихся 3 категорий, меньше 2000. Данный столбец не имеет нормального распределения. "
   ]
  },
  {
   "cell_type": "code",
   "execution_count": null,
   "id": "b212ae36-d9ed-4a36-983b-7e1dd6724bf9",
   "metadata": {},
   "outputs": [],
   "source": [
    "sns.histplot(data=df, x=\"Job\", color=\"skyblue\")\n",
    "plt.title(\"Box Plot Job распределения\")\n",
    "plt.xlabel(\"Значения\")\n",
    "plt.show()"
   ]
  },
  {
   "cell_type": "markdown",
   "id": "8303f769-88ea-4d57-8805-52d42c6eefdd",
   "metadata": {},
   "source": [
    "В столбце Assets, имеется 46 пропуска. Так просто их нельзя удалить и необходимо решить, как их заполнять. "
   ]
  },
  {
   "cell_type": "code",
   "execution_count": null,
   "id": "609022ed-6eab-47fb-a55d-3899fae89de8",
   "metadata": {},
   "outputs": [],
   "source": [
    "df.Assets.isna().sum()"
   ]
  },
  {
   "cell_type": "markdown",
   "id": "bfcec95d-0869-47bf-a7ac-f4d680d7ba59",
   "metadata": {},
   "source": [
    "Распределение пропусков в столбце Assets по категориям из столбца Job"
   ]
  },
  {
   "cell_type": "code",
   "execution_count": null,
   "id": "074a8ab5-20a2-4104-81ae-1111fd27ec9d",
   "metadata": {},
   "outputs": [],
   "source": [
    "missing_data = df.groupby('Job')['Assets'].apply(lambda x: x.isnull().sum())"
   ]
  },
  {
   "cell_type": "code",
   "execution_count": null,
   "id": "9f05ce2b-1f18-4d36-b512-12bd77a77763",
   "metadata": {},
   "outputs": [],
   "source": [
    "missing_data"
   ]
  },
  {
   "cell_type": "code",
   "execution_count": null,
   "id": "52abf96c-911f-4302-970f-79d405d82f9c",
   "metadata": {},
   "outputs": [],
   "source": [
    "missing_data.plot(kind='bar', color='skyblue', edgecolor='black')\n",
    "plt.title(\"Количество пропусков в столбце 'Assets' по категориям\")\n",
    "plt.xlabel(\"Категории\")\n",
    "plt.ylabel(\"Количество пропусков\")\n",
    "plt.show()"
   ]
  },
  {
   "cell_type": "markdown",
   "id": "61fbc74e-cd4d-44a1-9799-1c9f0d927f03",
   "metadata": {},
   "source": [
    "Хоть на графике ниже, отчетливо видно, что данные распределены не нормально, необходимо убедиться в этом. \n"
   ]
  },
  {
   "cell_type": "code",
   "execution_count": null,
   "id": "aeda1348-21c7-44dc-9e4a-77fc4d980374",
   "metadata": {},
   "outputs": [],
   "source": [
    "plt.hist(df['Assets'], bins=30, color=\"skyblue\", edgecolor=\"black\")\n",
    "plt.title(\"Гистограмма распределения Assets\")\n",
    "plt.xlabel(\"Значения\")\n",
    "plt.ylabel(\"Частота\")\n",
    "plt.show()"
   ]
  },
  {
   "cell_type": "code",
   "execution_count": null,
   "id": "dfecea04-b89f-4f13-8646-91e461201baa",
   "metadata": {},
   "outputs": [],
   "source": [
    "from scipy.stats import shapiro"
   ]
  },
  {
   "cell_type": "markdown",
   "id": "3d93aa69-8fc3-4ffc-91eb-c6f7ef17aed2",
   "metadata": {},
   "source": [
    "Немного странное число получилось, я ему не доверяю, возможно данный результат получился из -за того, что в столбце есть выбросы."
   ]
  },
  {
   "cell_type": "code",
   "execution_count": null,
   "id": "f8f84ad6-a511-4c62-8fce-7fae0e867937",
   "metadata": {},
   "outputs": [],
   "source": [
    "stat, p_value = shapiro(df['Assets'])\n",
    "print(f\"Тест Шапиро-Уилка p-value: {p_value}\")\n",
    "\n",
    "if p_value > 0.05:\n",
    "    print(\"Распределение похоже на нормальное.\")\n",
    "else:\n",
    "    print(\"Распределение не является нормальным.\")"
   ]
  },
  {
   "cell_type": "markdown",
   "id": "6ec78e07-51f6-4176-808a-8d9c237bdaa2",
   "metadata": {},
   "source": [
    "### Если удалить все пропуски в столбце"
   ]
  },
  {
   "cell_type": "code",
   "execution_count": null,
   "id": "9b3d367b-741f-4372-94af-40c703c4d4c7",
   "metadata": {},
   "outputs": [],
   "source": [
    "stat, p_value = shapiro(df[df['Assets'].notna()]['Assets'])\n",
    "print(f\"Тест Шапиро-Уилка p-value: {p_value}\")\n",
    "\n",
    "if p_value > 0.05:\n",
    "    print(\"Распределение похоже на нормальное.\")\n",
    "else:\n",
    "    print(\"Распределение не является нормальным.\")"
   ]
  },
  {
   "cell_type": "markdown",
   "id": "fea1e891-6a99-4443-9015-41aa4ce4f416",
   "metadata": {},
   "source": [
    "### Если заполнить все пропуски средним значением"
   ]
  },
  {
   "cell_type": "code",
   "execution_count": null,
   "id": "5109a5ef-47b4-4a52-89a2-f78384d51cae",
   "metadata": {},
   "outputs": [],
   "source": [
    "na_index = df[df['Assets'].isna()].index"
   ]
  },
  {
   "cell_type": "code",
   "execution_count": null,
   "id": "26f46699-c953-40cf-920d-0a557312f1ae",
   "metadata": {},
   "outputs": [],
   "source": [
    "mean_price = df['Assets'].mean()\n",
    "df['assets_filled_mean'] = df['Assets'].fillna(mean_price)"
   ]
  },
  {
   "cell_type": "code",
   "execution_count": null,
   "id": "4a935b74-8b2a-4a68-8965-3186e03af879",
   "metadata": {},
   "outputs": [],
   "source": [
    "stat, p_value = shapiro(df['assets_filled_mean'])\n",
    "print(f\"Тест Шапиро-Уилка p-value: {p_value}\")\n",
    "\n",
    "if p_value > 0.05:\n",
    "    print(\"Распределение похоже на нормальное.\")\n",
    "else:\n",
    "    print(\"Распределение не является нормальным.\")"
   ]
  },
  {
   "cell_type": "markdown",
   "id": "ba875a31-de1a-4844-bc86-17c712fbde14",
   "metadata": {},
   "source": [
    "### Если заполнить все пропуски медианным значением"
   ]
  },
  {
   "cell_type": "code",
   "execution_count": null,
   "id": "958cca81-1e4b-45f4-9f83-ca290f11df1f",
   "metadata": {},
   "outputs": [],
   "source": [
    "median_price = df['Assets'].median()\n",
    "df['assets_filled_median'] = df['Assets'].fillna(median_price)\n"
   ]
  },
  {
   "cell_type": "code",
   "execution_count": null,
   "id": "680e3177-85ef-4126-87ca-23324daaf0c2",
   "metadata": {},
   "outputs": [],
   "source": [
    "stat, p_value = shapiro(df['assets_filled_median'])\n",
    "print(f\"Тест Шапиро-Уилка p-value: {p_value}\")\n",
    "\n",
    "if p_value > 0.05:\n",
    "    print(\"Распределение похоже на нормальное.\")\n",
    "else:\n",
    "    print(\"Распределение не является нормальным.\")"
   ]
  },
  {
   "cell_type": "markdown",
   "id": "459d1345-0494-4928-922a-9dd2835d99e1",
   "metadata": {},
   "source": [
    "### Если заполнить все пропуски рандомным значением"
   ]
  },
  {
   "cell_type": "code",
   "execution_count": null,
   "id": "55abaf7d-d79f-437f-bff3-9ba57f173c8d",
   "metadata": {},
   "outputs": [],
   "source": [
    "size_na = df['Assets'].isna().sum()\n",
    "random = df['Assets'].dropna().sample(size_na).values\n",
    "df['assets_filled_random'] = df['Assets']\n",
    "df.loc[df['assets_filled_random'].isna(), 'assets_filled_random'] = random"
   ]
  },
  {
   "cell_type": "code",
   "execution_count": null,
   "id": "7ed53b5c-e31d-4d23-808d-7d37fcdb2297",
   "metadata": {},
   "outputs": [],
   "source": [
    "stat, p_value = shapiro(df['assets_filled_random'])\n",
    "print(f\"Тест Шапиро-Уилка p-value: {p_value}\")\n",
    "\n",
    "if p_value > 0.05:\n",
    "    print(\"Распределение похоже на нормальное.\")\n",
    "else:\n",
    "    print(\"Распределение не является нормальным.\")"
   ]
  },
  {
   "cell_type": "markdown",
   "id": "04974601-ef23-4c04-98fb-bfb78386f7c7",
   "metadata": {},
   "source": [
    "### Как видно, заполняя пропуски различными способами, распределение всё равно не стало нормальным. Также было принято решение, удалить все пропуски. "
   ]
  },
  {
   "cell_type": "code",
   "execution_count": null,
   "id": "2e4866de-be14-46ab-9ada-66cef86bffe9",
   "metadata": {},
   "outputs": [],
   "source": [
    "df = df[df['Assets'].notna()]"
   ]
  },
  {
   "cell_type": "code",
   "execution_count": null,
   "id": "d1aa5a2f-2ee9-4bc6-880f-3af1be97aa0a",
   "metadata": {},
   "outputs": [],
   "source": [
    "df.Assets.isna().sum()"
   ]
  },
  {
   "cell_type": "code",
   "execution_count": null,
   "id": "d25a1ed3-42f3-4e9f-a6da-633bd5e5c952",
   "metadata": {},
   "outputs": [],
   "source": [
    "import seaborn as sns"
   ]
  },
  {
   "cell_type": "markdown",
   "id": "009ab5c8-89c7-4d26-9378-b864e2244701",
   "metadata": {},
   "source": [
    "### На графике ниже видно, что в столбец Assets имеется больше количество выбросов."
   ]
  },
  {
   "cell_type": "code",
   "execution_count": null,
   "id": "09eb1a71-3bac-4ac3-ad6c-ceb4137e3474",
   "metadata": {},
   "outputs": [],
   "source": [
    "sns.boxplot(data=df, x=\"Assets\", color=\"skyblue\")\n",
    "plt.title(\"Box Plot распределения\")\n",
    "plt.xlabel(\"Значения\")\n",
    "plt.show()"
   ]
  },
  {
   "cell_type": "code",
   "execution_count": null,
   "id": "b4978f8e-740c-45d3-96fa-ae70b873abe4",
   "metadata": {},
   "outputs": [],
   "source": [
    "from scipy.stats import probplot"
   ]
  },
  {
   "cell_type": "markdown",
   "id": "aa1a605e-be8b-463d-83e3-4cde42211010",
   "metadata": {},
   "source": [
    "### QQ Plot показывает тоже самое"
   ]
  },
  {
   "cell_type": "code",
   "execution_count": null,
   "id": "5bf286a8-712c-4116-902b-56761ed99675",
   "metadata": {},
   "outputs": [],
   "source": [
    "plt.figure(figsize=(8, 6))\n",
    "probplot(df['Assets'], dist=\"norm\", plot=plt)\n",
    "plt.title(\"Q-Q Plot\")\n",
    "plt.xlabel(\"Теоретические квартили\")\n",
    "plt.ylabel(\"Наблюдаемые значения\")\n",
    "plt.show()"
   ]
  },
  {
   "cell_type": "markdown",
   "id": "834a760c-e6d6-4d26-87f6-14227c65ab70",
   "metadata": {},
   "source": [
    "Общее количество выбросов в столбце Assets = 277, это большое число и просто так их удалить нельзя, так как может потеряться ценная информация. Для этого можно воспользоваться 25% квантилем и 75% квантилем, чтобы определить подходящую границу данных, которые можно использовать."
   ]
  },
  {
   "cell_type": "code",
   "execution_count": null,
   "id": "92b8b437-0125-4595-927f-d7d4bbf61d86",
   "metadata": {},
   "outputs": [],
   "source": [
    "Q1 = df['Assets'].quantile(0.25)\n",
    "Q3 = df['Assets'].quantile(0.75)\n",
    "IQR = Q3 - Q1\n",
    "# Определяем границы для выбросов среди всего столбца\n",
    "lower_bound = Q1 - 1.5 * IQR\n",
    "upper_bound = Q3 + 1.5 * IQR\n",
    "outliers = df[(df['Assets'] < lower_bound) | (df['Assets'] > upper_bound)]\n",
    "print(f\"Общее количество выбросов в столбце Assets: {len(outliers)}\")"
   ]
  },
  {
   "cell_type": "code",
   "execution_count": null,
   "id": "f59348c8-1b37-40c2-bcbb-3088d5eff565",
   "metadata": {},
   "outputs": [],
   "source": [
    "df_fixed = df[df['Job'] == 'Фикс. время работы']\n",
    "Q1 = df_fixed['Assets'].quantile(0.25)\n",
    "Q3 = df_fixed['Assets'].quantile(0.75)\n",
    "IQR = Q3 - Q1\n",
    "# Определяем границы для выбросов в столбце Assets, в категории 'Фикс. время работы'\n",
    "lower_bound_fixed = Q1 - 1.5 * IQR\n",
    "upper_bound_fixed = Q3 + 1.5 * IQR\n",
    "outliers = df_fixed[(df_fixed['Assets'] < lower_bound_fixed) | (df_fixed['Assets'] > upper_bound_fixed)]\n",
    "print(f\"Количество выбросов в столбце Assets в категории 'Фикс. время работы': {len(outliers)}\")"
   ]
  },
  {
   "cell_type": "code",
   "execution_count": null,
   "id": "0d58bc7d-4259-4c6c-b41e-ba00fda5d201",
   "metadata": {},
   "outputs": [],
   "source": [
    "df_other = df[df['Job'] != 'Фикс. время работы']\n",
    "Q1 = df_other['Assets'].quantile(0.25)\n",
    "Q3 = df_other['Assets'].quantile(0.75)\n",
    "IQR = Q3 - Q1\n",
    "# Определяем границы для выбросов в столбце Assets, во всех остальных категориях кроме 'Фикс. время работы'\n",
    "lower_bound_other = Q1 - 1.5 * IQR\n",
    "upper_bound_other = Q3 + 1.5 * IQR\n",
    "outliers = df_other[(df_other['Assets'] < lower_bound_other) | (df_other['Assets'] > upper_bound_other)]\n",
    "print(f\"Количество выбросов в столбце Assets во всех остальных категориях кроме 'Фикс. время работы' {len(outliers)}\")"
   ]
  },
  {
   "cell_type": "markdown",
   "id": "d4b194f4-1c07-4af8-89ea-8d4e75adbbb3",
   "metadata": {},
   "source": [
    "### Объединенный датасет без выбросов в столбце Assets. "
   ]
  },
  {
   "cell_type": "code",
   "execution_count": null,
   "id": "16861700-2d22-4f8e-a233-00f91b746a10",
   "metadata": {},
   "outputs": [],
   "source": [
    "df_clear = df[(((df['Job'] == 'Фикс. время работы') &(df['Assets'] > lower_bound_fixed) & (df['Assets'] < upper_bound_fixed))\n",
    "               | ((df['Job'] != 'Фикс. время работы') & (df['Assets'] > lower_bound_other) & (df['Assets'] < upper_bound_other)))]"
   ]
  },
  {
   "cell_type": "markdown",
   "id": "96293bc1-8dd3-4f3b-90e7-bcc8a0f0a03e",
   "metadata": {},
   "source": [
    "### Разбиваем общий датасет, с выбросами, на 2, что бы проанализировать гипотезу"
   ]
  },
  {
   "cell_type": "code",
   "execution_count": null,
   "id": "11755970-b489-48b6-9f01-beab2e1b8441",
   "metadata": {},
   "outputs": [],
   "source": [
    "df_assets_fixed = df.loc[df['Job']=='Фикс. время работы', 'Assets']\n",
    "df_assets_others = df.loc[df['Job']!='Фикс. время работы', 'Assets']"
   ]
  },
  {
   "cell_type": "markdown",
   "id": "3b40f8e6-a9de-4fff-83ca-10325f3b6d0b",
   "metadata": {},
   "source": [
    "### Средняя сумма активов у всех, кроме заёмщиков с фикс. временем работы =  7935"
   ]
  },
  {
   "cell_type": "code",
   "execution_count": null,
   "id": "e006ab14-515b-438c-b61c-182af4ca21a0",
   "metadata": {},
   "outputs": [],
   "source": [
    "df_assets_others.mean()"
   ]
  },
  {
   "cell_type": "markdown",
   "id": "43dd195a-270c-44e9-af72-99b42684a3b0",
   "metadata": {},
   "source": [
    "### Средняя сумма активов у заёмщиков с фикс. временем работы =  3933"
   ]
  },
  {
   "cell_type": "code",
   "execution_count": null,
   "id": "5d05913f-019a-40dc-87a5-7da3717cd841",
   "metadata": {},
   "outputs": [],
   "source": [
    "df_assets_fixed.mean()"
   ]
  },
  {
   "cell_type": "code",
   "execution_count": null,
   "id": "e88249b4-2f5d-43f6-ad14-4c482fd5c01f",
   "metadata": {},
   "outputs": [],
   "source": [
    "from scipy.stats import mannwhitneyu"
   ]
  },
  {
   "cell_type": "code",
   "execution_count": null,
   "id": "7d2a7bb4-9f5b-4d9b-ab98-ce633be98511",
   "metadata": {},
   "outputs": [],
   "source": [
    "mannwhitneyu(df_assets_others, df_assets_fixed, alternative = 'two-sided') "
   ]
  },
  {
   "cell_type": "markdown",
   "id": "990704a1-f710-4cc7-9048-ce70a5911a86",
   "metadata": {},
   "source": [
    "Нулевая гипотеза: Сумма активов (Assets), кто имеет фиксированное время работы (fixed в столбце Job), не больше, чем у остальных.\n",
    "Полученное p-значение говорит нам о том, что нулевое гипотезу можно смело отвергнуть, так как полученное число < 5%.\n",
    "Следовательно, существует статистически значимая разница в сумме активов между группами. Однако, средняя сумма активов у заёмщиков с фиксированным временем работы, меньше, чем у остальных. Можно сделать вывод, что гипотеза не подтверждается - люди с фиксированным временем работы имеют меньше активов, чем другие категории."
   ]
  },
  {
   "cell_type": "markdown",
   "id": "e5ee98a3-fd3e-48d7-94bf-f905d9a37a97",
   "metadata": {},
   "source": [
    "Теперь необходимо проверить нулевые и основную гипотезу для данных без выбросов. "
   ]
  },
  {
   "cell_type": "code",
   "execution_count": null,
   "id": "e7123b98-2e94-4a87-9459-84c938ec8d30",
   "metadata": {},
   "outputs": [],
   "source": [
    "df_assets_others = df_clear.loc[df_clear['Job']!='Фикс. время работы', 'Assets']\n",
    "df_assets_fixed = df_clear.loc[df_clear['Job']=='Фикс. время работы', 'Assets']"
   ]
  },
  {
   "cell_type": "markdown",
   "id": "89efac13-0bf3-46ab-ae2b-3f34beab7a55",
   "metadata": {},
   "source": [
    "### Средняя сумма активов у всех, кроме заёмщиков с фикс. временем работы =  4568"
   ]
  },
  {
   "cell_type": "code",
   "execution_count": null,
   "id": "04639cf3-3e59-4ddd-a02b-550de3c9f3ee",
   "metadata": {},
   "outputs": [],
   "source": [
    "df_assets_others.mean()"
   ]
  },
  {
   "cell_type": "markdown",
   "id": "1d256865-f0cd-4db4-9c2d-833d27c77b47",
   "metadata": {},
   "source": [
    "### Средняя сумма активов у заёмщиков с фикс. временем работы =  2942"
   ]
  },
  {
   "cell_type": "code",
   "execution_count": null,
   "id": "02312dbd-1b7a-4f0e-b6e5-99914a78e505",
   "metadata": {},
   "outputs": [],
   "source": [
    "df_assets_fixed.mean()"
   ]
  },
  {
   "cell_type": "code",
   "execution_count": null,
   "id": "7fe367fb-036a-426b-820d-a525d318d5be",
   "metadata": {},
   "outputs": [],
   "source": [
    "mannwhitneyu(df_assets_others, df_assets_fixed, alternative = 'two-sided')"
   ]
  },
  {
   "cell_type": "markdown",
   "id": "9806c5c0-67fd-4a13-8a65-11a3d2235a14",
   "metadata": {},
   "source": [
    "Получаем точно такой же результат, только уже для очищенных данных. Можно сделать вывод, что гипотеза не подтверждается - люди с фиксированным временем работы имеют меньше активов, чем другие категории."
   ]
  },
  {
   "cell_type": "markdown",
   "id": "77b7b504-dcd5-4d9c-aa51-123934efe898",
   "metadata": {},
   "source": [
    "Для большей убедительности, можно провести t-тест. \n",
    "Данный тест, также показал, что есть значимые различия между двумя группами, также очень низкое p-значение, что может свидетельствовать, о том, что нулевую гипотезу можно отвергнуть."
   ]
  },
  {
   "cell_type": "code",
   "execution_count": 897,
   "id": "35303caf-b4a9-4b84-89f1-09d72cb3de30",
   "metadata": {},
   "outputs": [
    {
     "name": "stdout",
     "output_type": "stream",
     "text": [
      "t-статистика: 12.719604987877284\n",
      "p-значение: 2.1909672210391043e-36\n"
     ]
    }
   ],
   "source": [
    "t_stat, p_value = ttest_ind(df_assets_others, df_assets_fixed)\n",
    "\n",
    "print(\"t-статистика:\", t_stat)\n",
    "print(\"p-значение:\", p_value)"
   ]
  },
  {
   "cell_type": "markdown",
   "id": "c2d02d64-662c-44d1-bc44-057a522bb3fc",
   "metadata": {},
   "source": [
    "### Практический смысл: Можно подготовить подходящие кредитные программы для покупки имущественных активов, для заёмщиков с фикс. временем работы. Так как первые имеют намного меньше активов, чем вторые, то удобные и щадящие кредиты помогут привлечь новых клиентов. То есть сделать акцент именно на группу заёмщиков с фикс. временем работы. "
   ]
  },
  {
   "cell_type": "markdown",
   "id": "fd829257-e754-4644-b162-3c2c29267ca1",
   "metadata": {},
   "source": [
    "# 3 гипотеза: Человек с большими доходами (Income) будет просить сумму кредита (Amount) больше, чем человек с низкими доходами"
   ]
  },
  {
   "cell_type": "markdown",
   "id": "9b7626c5-4c68-4508-ad6f-d6b120fb8c75",
   "metadata": {},
   "source": [
    "Столбец с доходами (Income) имеется большое количество пропусков.  "
   ]
  },
  {
   "cell_type": "code",
   "execution_count": 898,
   "id": "093f9d93-0421-4dde-b81c-299e7fc3507a",
   "metadata": {},
   "outputs": [
    {
     "data": {
      "text/plain": [
       "366"
      ]
     },
     "execution_count": 898,
     "metadata": {},
     "output_type": "execute_result"
    }
   ],
   "source": [
    "df.Income.isna().sum()"
   ]
  },
  {
   "cell_type": "markdown",
   "id": "890b8f9a-ecb8-415f-b672-c0d441b36004",
   "metadata": {},
   "source": [
    "\n",
    "Пропуски явно влияют на расчет числа p.\r\n"
   ]
  },
  {
   "cell_type": "code",
   "execution_count": 899,
   "id": "47ce09be-29a0-4b10-9fde-1327aefbda7c",
   "metadata": {},
   "outputs": [
    {
     "name": "stdout",
     "output_type": "stream",
     "text": [
      "Тест Шапиро-Уилка p-value: 1.0\n",
      "Распределение похоже на нормальное.\n"
     ]
    }
   ],
   "source": [
    "stat, p_value = shapiro(df['Income'])\n",
    "print(f\"Тест Шапиро-Уилка p-value: {p_value}\")\n",
    "\n",
    "if p_value > 0.05:\n",
    "    print(\"Распределение похоже на нормальное.\")\n",
    "else:\n",
    "    print(\"Распределение не является нормальным.\")"
   ]
  },
  {
   "cell_type": "markdown",
   "id": "1ac54e74-c8c5-4cf6-b9bf-826132a1374a",
   "metadata": {},
   "source": [
    "Потому что, если их заполнить, то p-значение сразу станет ненормальным."
   ]
  },
  {
   "cell_type": "code",
   "execution_count": 900,
   "id": "4e3bfd8d-5ce6-4770-aa3c-aef85ead36d9",
   "metadata": {},
   "outputs": [],
   "source": [
    "df['Income'].fillna(df['Income'].median(), inplace=True)"
   ]
  },
  {
   "cell_type": "code",
   "execution_count": 901,
   "id": "150ba16f-6a02-4849-b9a9-01195714915b",
   "metadata": {},
   "outputs": [
    {
     "name": "stdout",
     "output_type": "stream",
     "text": [
      "Тест Шапиро-Уилка p-value: 7.170848453165128e-59\n",
      "Распределение не является нормальным.\n"
     ]
    }
   ],
   "source": [
    "stat, p_value = shapiro(df['Income'])\n",
    "print(f\"Тест Шапиро-Уилка p-value: {p_value}\")\n",
    "\n",
    "if p_value > 0.05:\n",
    "    print(\"Распределение похоже на нормальное.\")\n",
    "else:\n",
    "    print(\"Распределение не является нормальным.\")"
   ]
  },
  {
   "cell_type": "code",
   "execution_count": 928,
   "id": "d16a79d2-a5ec-4c78-b21a-1f12e5580388",
   "metadata": {},
   "outputs": [
    {
     "data": {
      "image/png": "[encoded data removed]",
      "text/plain": [
       "<Figure size 640x480 with 1 Axes>"
      ]
     },
     "metadata": {},
     "output_type": "display_data"
    }
   ],
   "source": [
    "plt.hist(df['Income'], bins=30, color=\"skyblue\", edgecolor=\"black\")\n",
    "plt.title(\"Гистограмма распределения Income\")\n",
    "plt.xlabel(\"Значения\")\n",
    "plt.ylabel(\"Частота\")\n",
    "plt.show()"
   ]
  },
  {
   "cell_type": "code",
   "execution_count": 903,
   "id": "4ca750c1-a3e1-4fa7-a548-774f6a37e3b0",
   "metadata": {},
   "outputs": [
    {
     "data": {
      "text/plain": [
       "0"
      ]
     },
     "execution_count": 903,
     "metadata": {},
     "output_type": "execute_result"
    }
   ],
   "source": [
    "df.Income.isna().sum()"
   ]
  },
  {
   "cell_type": "markdown",
   "id": "332a9d98-0ef4-4c47-917f-63efddf96016",
   "metadata": {},
   "source": [
    "Поле сумма кредита (Amount), не имеет пропусков "
   ]
  },
  {
   "cell_type": "code",
   "execution_count": 904,
   "id": "f5b9ea46-9f6b-48d7-9e82-9d01c020ad94",
   "metadata": {},
   "outputs": [
    {
     "data": {
      "text/plain": [
       "0"
      ]
     },
     "execution_count": 904,
     "metadata": {},
     "output_type": "execute_result"
    }
   ],
   "source": [
    "df.Amount.isna().sum()"
   ]
  },
  {
   "cell_type": "markdown",
   "id": "15a0afa1-d20a-4642-9cbd-19e1d4184206",
   "metadata": {},
   "source": [
    "Распределение в столбце Amount, также ненормальное"
   ]
  },
  {
   "cell_type": "code",
   "execution_count": 905,
   "id": "a061d6a5-58b0-43e7-a092-7c717e589a2f",
   "metadata": {},
   "outputs": [
    {
     "name": "stdout",
     "output_type": "stream",
     "text": [
      "Shapiro-Wilk p-value: 4.41962035616294e-36\n",
      "Распределение не является нормальным.\n"
     ]
    }
   ],
   "source": [
    "stat, p_value = shapiro(df['Amount'])\n",
    "print(f\"Shapiro-Wilk p-value: {p_value}\")\n",
    "\n",
    "if p_value > 0.05:\n",
    "    print(\"Распределение похоже на нормальное.\")\n",
    "else:\n",
    "    print(\"Распределение не является нормальным.\")"
   ]
  },
  {
   "cell_type": "code",
   "execution_count": 929,
   "id": "2c0b9e1e-96a9-4c27-8ec4-3507e6eea2c0",
   "metadata": {},
   "outputs": [
    {
     "data": {
      "image/png": "[encoded data removed]",
      "text/plain": [
       "<Figure size 640x480 with 1 Axes>"
      ]
     },
     "metadata": {},
     "output_type": "display_data"
    }
   ],
   "source": [
    "plt.hist(df['Amount'], bins=30, color=\"skyblue\", edgecolor=\"black\")\n",
    "plt.title(\"Гистограмма распределения Amount\")\n",
    "plt.xlabel(\"Значения\")\n",
    "plt.ylabel(\"Частота\")\n",
    "plt.show()"
   ]
  },
  {
   "cell_type": "markdown",
   "id": "24fb12be-4d27-4374-b120-0afcb13954d9",
   "metadata": {},
   "source": [
    "Далее необходимо проверить столбцы на наличие выбросов. \n"
   ]
  },
  {
   "cell_type": "markdown",
   "id": "0112411b-9650-4d15-9867-0e6a24243a99",
   "metadata": {},
   "source": [
    "На двух нижних графиках видно, что в столбце Income имеются выбросы. "
   ]
  },
  {
   "cell_type": "code",
   "execution_count": 907,
   "id": "36e45655-5c72-4bb1-bdd7-21efcf18ce94",
   "metadata": {},
   "outputs": [
    {
     "data": {
      "image/png": "[encoded data removed]",
      "text/plain": [
       "<Figure size 640x480 with 1 Axes>"
      ]
     },
     "metadata": {},
     "output_type": "display_data"
    }
   ],
   "source": [
    "sns.boxplot(data=df, x=\"Income\", color=\"skyblue\")\n",
    "plt.title(\"Box Plot распределения Income\")\n",
    "plt.xlabel(\"Значения\")\n",
    "plt.show()"
   ]
  },
  {
   "cell_type": "code",
   "execution_count": 908,
   "id": "941fabdf-45b2-4b62-abf1-703127b55280",
   "metadata": {},
   "outputs": [
    {
     "data": {
      "image/png": "[encoded data removed]",
      "text/plain": [
       "<Figure size 800x600 with 1 Axes>"
      ]
     },
     "metadata": {},
     "output_type": "display_data"
    }
   ],
   "source": [
    "plt.figure(figsize=(8, 6))\n",
    "probplot(df['Income'], plot=plt)\n",
    "plt.title(\"Q-Q Plot Income\")\n",
    "plt.xlabel(\"Теоретические квартили\")\n",
    "plt.ylabel(\"Наблюдаемые значения\")\n",
    "plt.show()"
   ]
  },
  {
   "cell_type": "markdown",
   "id": "1aa6de7e-af64-4621-83a7-1e649a4f415f",
   "metadata": {},
   "source": [
    "Точно также, в столбце Amount имеются выбросы"
   ]
  },
  {
   "cell_type": "code",
   "execution_count": 909,
   "id": "ca3267f6-a951-4a9a-9ee3-41b9bcaa1f0d",
   "metadata": {},
   "outputs": [
    {
     "data": {
      "image/png": "[encoded data removed]",
      "text/plain": [
       "<Figure size 640x480 with 1 Axes>"
      ]
     },
     "metadata": {},
     "output_type": "display_data"
    }
   ],
   "source": [
    "sns.boxplot(data=df, x=\"Amount\", color=\"skyblue\")\n",
    "plt.title(\"Box Plot распределения Amount\")\n",
    "plt.xlabel(\"Значения\")\n",
    "plt.show()"
   ]
  },
  {
   "cell_type": "code",
   "execution_count": 910,
   "id": "2bef4fca-b025-4c2d-a78b-c1c22b1c8783",
   "metadata": {},
   "outputs": [
    {
     "data": {
      "image/png": "[encoded data removed]",
      "text/plain": [
       "<Figure size 800x600 with 1 Axes>"
      ]
     },
     "metadata": {},
     "output_type": "display_data"
    }
   ],
   "source": [
    "plt.figure(figsize=(8, 6))\n",
    "probplot(df['Amount'], plot=plt)\n",
    "plt.title(\"Q-Q Plot Amount\")\n",
    "plt.xlabel(\"Теоретические квартили\")\n",
    "plt.ylabel(\"Наблюдаемые значения\")\n",
    "plt.show()"
   ]
  },
  {
   "cell_type": "markdown",
   "id": "3cbee470-7694-40ab-873f-4a9778b585e9",
   "metadata": {},
   "source": [
    "Далее эти выбросы были определены и удалены из выборки"
   ]
  },
  {
   "cell_type": "code",
   "execution_count": 911,
   "id": "5e021065-d888-4f85-8aa1-8056b642f587",
   "metadata": {},
   "outputs": [
    {
     "name": "stdout",
     "output_type": "stream",
     "text": [
      "Количество выбросов: 242\n"
     ]
    }
   ],
   "source": [
    "Q1 = df['Income'].quantile(0.25)\n",
    "Q3 = df['Income'].quantile(0.75)\n",
    "IQR = Q3 - Q1\n",
    "# Определяем границы для выбросов\n",
    "lower_bound = Q1 - 1.5 * IQR\n",
    "upper_bound = Q3 + 1.5 * IQR\n",
    "outliers = df[(df['Income'] < lower_bound) | (df['Income'] > upper_bound)]\n",
    "print(f\"Количество выбросов: {len(outliers)}\")"
   ]
  },
  {
   "cell_type": "code",
   "execution_count": 912,
   "id": "7ed6b43a-8132-474a-9368-4221c37f88b4",
   "metadata": {},
   "outputs": [
    {
     "name": "stdout",
     "output_type": "stream",
     "text": [
      "Количество выбросов: 70\n"
     ]
    }
   ],
   "source": [
    "Q1 = df['Amount'].quantile(0.25)\n",
    "Q3 = df['Amount'].quantile(0.75)\n",
    "IQR = Q3 - Q1\n",
    "# Определяем границы для выбросов\n",
    "lower_bound = Q1 - 1.5 * IQR\n",
    "upper_bound = Q3 + 1.5 * IQR\n",
    "outliers = df[(df['Amount'] < lower_bound) | (df['Amount'] > upper_bound)]\n",
    "print(f\"Количество выбросов: {len(outliers)}\")"
   ]
  },
  {
   "cell_type": "code",
   "execution_count": 913,
   "id": "17e4a270-edef-4da8-a889-2a2360ed0444",
   "metadata": {},
   "outputs": [],
   "source": [
    "df = df[(df['Amount'] >= lower_bound) & (df['Amount'] <= upper_bound)]"
   ]
  },
  {
   "cell_type": "code",
   "execution_count": 914,
   "id": "562b2052-1de2-4b06-a6cb-7f9ca46fd29c",
   "metadata": {},
   "outputs": [],
   "source": [
    "df = df[(df['Income'] >= lower_bound) & (df['Income'] <= upper_bound)]"
   ]
  },
  {
   "cell_type": "code",
   "execution_count": 915,
   "id": "9431ddb1-d3bd-4321-a269-edaf4c1472e5",
   "metadata": {},
   "outputs": [],
   "source": [
    "from scipy.stats import ttest_ind"
   ]
  },
  {
   "cell_type": "markdown",
   "id": "4606547e-e4b2-4b0e-8e4a-2d3c5d4cc289",
   "metadata": {},
   "source": [
    "Средняя сумма кредитов у тех, кто имеет доход > 250 = 1114"
   ]
  },
  {
   "cell_type": "code",
   "execution_count": 916,
   "id": "f64cff25-4518-487b-80aa-4aabd0257807",
   "metadata": {},
   "outputs": [
    {
     "data": {
      "text/plain": [
       "1153.990506329114"
      ]
     },
     "execution_count": 916,
     "metadata": {},
     "output_type": "execute_result"
    }
   ],
   "source": [
    "df[df['Income'] >= 250]['Amount'].mean()"
   ]
  },
  {
   "cell_type": "markdown",
   "id": "48fbfdb2-3165-47a6-a307-73a8b2d45177",
   "metadata": {},
   "source": [
    "Средняя сумма кредитов у тех, кто имеет доход < 250 = 999"
   ]
  },
  {
   "cell_type": "code",
   "execution_count": 917,
   "id": "2381e5f5-3ede-40ba-a63d-0d3b9548297a",
   "metadata": {},
   "outputs": [
    {
     "data": {
      "text/plain": [
       "999.2761881064941"
      ]
     },
     "execution_count": 917,
     "metadata": {},
     "output_type": "execute_result"
    }
   ],
   "source": [
    "df[df['Income'] < 250]['Amount'].mean()"
   ]
  },
  {
   "cell_type": "markdown",
   "id": "754c91fd-d66c-417b-a719-32c90f33dd6f",
   "metadata": {},
   "source": [
    "Затем была найдена корреляция между столбцами, при помощи методов Спирмена и Кендалла. Методы показали слабую корреляцию между доходом и суммой кредита"
   ]
  },
  {
   "cell_type": "code",
   "execution_count": 918,
   "id": "3e7ab63a-34ed-4a86-8b59-95a6114157c3",
   "metadata": {},
   "outputs": [
    {
     "name": "stdout",
     "output_type": "stream",
     "text": [
      "Коэффициент корреляции Спирмена: 0.16654067137859616\n"
     ]
    }
   ],
   "source": [
    "correlation_spearman = df['Income'].corr(df['Amount'], method='spearman')\n",
    "print(\"Коэффициент корреляции Спирмена:\", correlation_spearman)"
   ]
  },
  {
   "cell_type": "code",
   "execution_count": 919,
   "id": "6998ed88-335b-4a5b-b6c6-aeb43251eee3",
   "metadata": {},
   "outputs": [
    {
     "name": "stdout",
     "output_type": "stream",
     "text": [
      "Коэффициент корреляции Кендалла: 0.11509504821743041\n"
     ]
    }
   ],
   "source": [
    "correlation_kendall = df['Income'].corr(df['Amount'], method='kendall')\n",
    "print(\"Коэффициент корреляции Кендалла:\", correlation_kendall)"
   ]
  },
  {
   "cell_type": "markdown",
   "id": "1cca95e8-9696-411b-9160-9db8b922def3",
   "metadata": {},
   "source": [
    "На графике рассеивания, так можно высмотреть слабую линейную зависимость. "
   ]
  },
  {
   "cell_type": "code",
   "execution_count": 920,
   "id": "be611f57-0264-4509-85ab-bc7b581c3dbf",
   "metadata": {},
   "outputs": [
    {
     "data": {
      "image/png": "[encoded data removed]",
      "text/plain": [
       "<Figure size 640x480 with 1 Axes>"
      ]
     },
     "metadata": {},
     "output_type": "display_data"
    }
   ],
   "source": [
    "plt.scatter(df['Income'], df['Amount'])\n",
    "plt.xlabel('Income')\n",
    "plt.ylabel('Amount')\n",
    "plt.title('Диаграмма рассеяния')\n",
    "plt.show()"
   ]
  },
  {
   "cell_type": "markdown",
   "id": "80fd4d7f-b8d5-42a1-8aca-139d407ac696",
   "metadata": {},
   "source": [
    "Тесты также показали, что средняя сумма кредита у заёмщиков с высокими доходами, действительно отличается, от суммы кредита у заёмщиков с низкими доходами. Так как p-значение меньше чем 0.05"
   ]
  },
  {
   "cell_type": "code",
   "execution_count": 922,
   "id": "7cdf9dd5-7499-48f4-8555-7906870191d5",
   "metadata": {},
   "outputs": [
    {
     "name": "stdout",
     "output_type": "stream",
     "text": [
      "t-статистика: 9.441868505678762\n",
      "p-значение: 5.8151379859406504e-21\n"
     ]
    }
   ],
   "source": [
    "t_stat, p_value = ttest_ind(df[df['Income'] >= 150]['Amount'], df[df['Income'] < 150]['Amount'])\n",
    "\n",
    "print(\"t-статистика:\", t_stat)\n",
    "print(\"p-значение:\", p_value)"
   ]
  },
  {
   "cell_type": "code",
   "execution_count": 921,
   "id": "fb6edbfc-193b-4696-81ac-180eb54ef5a0",
   "metadata": {},
   "outputs": [
    {
     "name": "stdout",
     "output_type": "stream",
     "text": [
      "t-статистика: 9.15485125668358\n",
      "p-значение: 8.199202221264543e-20\n"
     ]
    }
   ],
   "source": [
    "t_stat, p_value = ttest_ind(df[df['Income'] >= 200]['Amount'], df[df['Income'] < 200]['Amount'])\n",
    "\n",
    "print(\"t-статистика:\", t_stat)\n",
    "print(\"p-значение:\", p_value)"
   ]
  },
  {
   "cell_type": "code",
   "execution_count": 923,
   "id": "1664e130-2ed9-4ca5-bdfd-8a409896e0d8",
   "metadata": {},
   "outputs": [
    {
     "name": "stdout",
     "output_type": "stream",
     "text": [
      "t-статистика: 6.42121977507873\n",
      "p-значение: 1.4972723867158401e-10\n"
     ]
    }
   ],
   "source": [
    "t_stat, p_value = ttest_ind(df[df['Income'] >= 250]['Amount'], df[df['Income'] < 250]['Amount'])\n",
    "\n",
    "print(\"t-статистика:\", t_stat)\n",
    "print(\"p-значение:\", p_value)"
   ]
  },
  {
   "cell_type": "markdown",
   "id": "ff97db20-88ff-45a5-b390-76d0c6e6126b",
   "metadata": {},
   "source": [
    "### Вывод: Гипотеза частично подтверждена, так как корреляция очень слабая между столбцами."
   ]
  },
  {
   "cell_type": "markdown",
   "id": "8cd0dd67-8d4a-446c-a0ec-708f5859ef2e",
   "metadata": {},
   "source": [
    "### Практическая значимость: Можно предложить льготные кредиты или меньший процент, чтобы привлечь новых клиентов или заинтересовать уже существующих клиентов в новом кредите. Например, те заёмщики у которых есть кредит в текущем банке, могут получить следующий кредит уже с меньшей процентной ставкой или повышенным максимальным лимитом. При условии, что у заёмщика хороший кредитный статус. "
   ]
  }
 ],
 "metadata": {
  "kernelspec": {
   "display_name": "Python 3 (ipykernel)",
   "language": "python",
   "name": "python3"
  },
  "language_info": {
   "codemirror_mode": {
    "name": "ipython",
    "version": 3
   },
   "file_extension": ".py",
   "mimetype": "text/x-python",
   "name": "python",
   "nbconvert_exporter": "python",
   "pygments_lexer": "ipython3",
   "version": "3.10.14"
  }
 },
 "nbformat": 4,
 "nbformat_minor": 5
}
